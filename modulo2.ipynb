{
 "cells": [
  {
   "cell_type": "markdown",
   "id": "70824325",
   "metadata": {},
   "source": [
    "# Estutura de um programa"
   ]
  },
  {
   "cell_type": "markdown",
   "id": "4d0697a8",
   "metadata": {},
   "source": [
    "É comun na programação iniciar nosso codigo pelo método/função main.\n",
    "No nosso curso utilizaremos a estrutura a abixo:"
   ]
  },
  {
   "cell_type": "code",
   "execution_count": 51,
   "id": "14020083",
   "metadata": {},
   "outputs": [],
   "source": [
    "def main():\n",
    "    # comandos\n",
    "    pass\n",
    "# -------------\n",
    "# A linha a seguir executa o programa\n",
    "main()"
   ]
  },
  {
   "cell_type": "markdown",
   "id": "cd43b8d8",
   "metadata": {},
   "source": [
    "## Entendendo a estrutura"
   ]
  },
  {
   "cell_type": "markdown",
   "id": "5c7c3da7",
   "metadata": {},
   "source": [
    "o python funciona por 'identação'.\n",
    "Executa primeiro o mais a esquerda possível de cima para baixo"
   ]
  },
  {
   "cell_type": "code",
   "execution_count": 2,
   "id": "e4a0d474",
   "metadata": {},
   "outputs": [],
   "source": [
    "# Escopo inicial\n",
    "    # Escopo secundario \n",
    "       # Escopo terciário\n",
    "            # Quarto escopo"
   ]
  },
  {
   "cell_type": "markdown",
   "id": "f18bb801",
   "metadata": {},
   "source": [
    "**def** -> Define uma função"
   ]
  },
  {
   "cell_type": "markdown",
   "id": "8102df4c",
   "metadata": {},
   "source": [
    "**()** -> chama uma função"
   ]
  },
  {
   "cell_type": "markdown",
   "id": "ed403596",
   "metadata": {},
   "source": [
    "**:** -> começa um novo nível de escopo"
   ]
  },
  {
   "cell_type": "markdown",
   "id": "350d1f6e",
   "metadata": {},
   "source": [
    "# Variáveis"
   ]
  },
  {
   "cell_type": "markdown",
   "id": "68d9e6c5",
   "metadata": {},
   "source": [
    "Uma variável é um nome que se refere a um valor"
   ]
  },
  {
   "cell_type": "markdown",
   "id": "635d8aa7",
   "metadata": {},
   "source": [
    "## Atribuição\n",
    "Comando de atribuição cria uma nova variavel e lhe dá um valor.\n",
    "Set -> Setando -> Estamos atribuindo um valor"
   ]
  },
  {
   "cell_type": "markdown",
   "id": "44686e1e",
   "metadata": {},
   "source": [
    "## motivação de uso\n",
    "São usadas para guardamos valores que serão usadas mais tarde no programa"
   ]
  },
  {
   "cell_type": "markdown",
   "id": "e7508b7e",
   "metadata": {},
   "source": [
    "variavel = valor\n",
    "variavel = novo_valor\n",
    "variavel = novo_novo_valor\n",
    "\n",
    "variavel"
   ]
  },
  {
   "cell_type": "markdown",
   "id": "0eacb01c",
   "metadata": {},
   "source": [
    "**Exemplo:**"
   ]
  },
  {
   "cell_type": "code",
   "execution_count": 4,
   "id": "ade89473",
   "metadata": {},
   "outputs": [
    {
     "data": {
      "text/plain": [
       "25"
      ]
     },
     "execution_count": 4,
     "metadata": {},
     "output_type": "execute_result"
    }
   ],
   "source": [
    "primeiro_numero = 15\n",
    "segundo_numero = 10\n",
    "soma = primeiro_numero + segundo_numero\n",
    "soma"
   ]
  },
  {
   "cell_type": "code",
   "execution_count": 5,
   "id": "1904cedf",
   "metadata": {},
   "outputs": [],
   "source": [
    "primeiro_numero = 20"
   ]
  },
  {
   "cell_type": "code",
   "execution_count": 6,
   "id": "1c316b10",
   "metadata": {},
   "outputs": [],
   "source": [
    "segundo_numero = 25"
   ]
  },
  {
   "cell_type": "code",
   "execution_count": 13,
   "id": "fb94aa99",
   "metadata": {},
   "outputs": [
    {
     "data": {
      "text/plain": [
       "45"
      ]
     },
     "execution_count": 13,
     "metadata": {},
     "output_type": "execute_result"
    }
   ],
   "source": [
    "soma"
   ]
  },
  {
   "cell_type": "code",
   "execution_count": 16,
   "id": "2fd1b6e6",
   "metadata": {},
   "outputs": [],
   "source": [
    "soma = soma + ( primeiro_numero + segundo_numero )"
   ]
  },
  {
   "cell_type": "code",
   "execution_count": 17,
   "id": "f452b21b",
   "metadata": {},
   "outputs": [
    {
     "data": {
      "text/plain": [
       "90"
      ]
     },
     "execution_count": 17,
     "metadata": {},
     "output_type": "execute_result"
    }
   ],
   "source": [
    "soma"
   ]
  },
  {
   "cell_type": "code",
   "execution_count": 23,
   "id": "50cdfb32",
   "metadata": {},
   "outputs": [],
   "source": [
    "soma = soma -10"
   ]
  },
  {
   "cell_type": "code",
   "execution_count": 24,
   "id": "f55cb84b",
   "metadata": {},
   "outputs": [
    {
     "data": {
      "text/plain": [
       "60"
      ]
     },
     "execution_count": 24,
     "metadata": {},
     "output_type": "execute_result"
    }
   ],
   "source": [
    "soma"
   ]
  },
  {
   "cell_type": "markdown",
   "id": "f5eda62c",
   "metadata": {},
   "source": [
    "## Exercicio 2.1 \n",
    "Dado dois valores 'a' e 'b' calcule a soma"
   ]
  },
  {
   "cell_type": "markdown",
   "id": "2bba041c",
   "metadata": {},
   "source": [
    "## Exercicio 2.2\n",
    "Dado dois valores 'a' e 'b' calcule a mutiplicação"
   ]
  },
  {
   "cell_type": "code",
   "execution_count": 13,
   "id": "10c36e2b",
   "metadata": {},
   "outputs": [],
   "source": [
    "d = 3\n",
    "b = 5"
   ]
  },
  {
   "cell_type": "code",
   "execution_count": 16,
   "id": "84300d71",
   "metadata": {},
   "outputs": [],
   "source": [
    "adicao = d + b"
   ]
  },
  {
   "cell_type": "code",
   "execution_count": 43,
   "id": "09c45da0",
   "metadata": {},
   "outputs": [
    {
     "data": {
      "text/plain": [
       "8"
      ]
     },
     "execution_count": 43,
     "metadata": {},
     "output_type": "execute_result"
    }
   ],
   "source": [
    "adicao"
   ]
  },
  {
   "cell_type": "code",
   "execution_count": 14,
   "id": "ca72ced1",
   "metadata": {},
   "outputs": [],
   "source": [
    "mutiplicacao = d * b"
   ]
  },
  {
   "cell_type": "code",
   "execution_count": 37,
   "id": "0f656b7c",
   "metadata": {},
   "outputs": [
    {
     "data": {
      "text/plain": [
       "15"
      ]
     },
     "execution_count": 37,
     "metadata": {},
     "output_type": "execute_result"
    }
   ],
   "source": [
    "mutiplicacao"
   ]
  },
  {
   "cell_type": "code",
   "execution_count": 45,
   "id": "34049b90",
   "metadata": {},
   "outputs": [
    {
     "data": {
      "text/plain": [
       "8"
      ]
     },
     "execution_count": 45,
     "metadata": {},
     "output_type": "execute_result"
    }
   ],
   "source": [
    "mutiplicacao\n",
    "adicao"
   ]
  },
  {
   "cell_type": "code",
   "execution_count": 17,
   "id": "3f1b7ff1",
   "metadata": {},
   "outputs": [
    {
     "data": {
      "text/plain": [
       "(15, 8)"
      ]
     },
     "execution_count": 17,
     "metadata": {},
     "output_type": "execute_result"
    }
   ],
   "source": [
    "mutiplicacao, adicao"
   ]
  },
  {
   "cell_type": "code",
   "execution_count": 18,
   "id": "4356e656",
   "metadata": {},
   "outputs": [
    {
     "name": "stdout",
     "output_type": "stream",
     "text": [
      "15\n",
      "8\n"
     ]
    }
   ],
   "source": [
    "print(mutiplicacao)\n",
    "print(adicao)"
   ]
  },
  {
   "cell_type": "markdown",
   "id": "18969fb6",
   "metadata": {},
   "source": [
    "### Lembrete\n",
    "Nuna coloque caracteres especiais em nome de variaveis!\n",
    "Nos comentarios, sinta-se livre para usar-los, mas nunca em variáveis\n",
    "\n",
    "você = errado   \n",
    "voce = certo"
   ]
  },
  {
   "cell_type": "markdown",
   "id": "f3ee480e",
   "metadata": {},
   "source": [
    "## comandos get ( recuperando um valor de uma variavel)\n",
    "OS comando **get** chamam uma variavel e retornam (recuperam) o seu valor   \n",
    "ex:  \n",
    "varavel1 (set) = varavel2 (get)"
   ]
  },
  {
   "cell_type": "code",
   "execution_count": 50,
   "id": "7be79284",
   "metadata": {},
   "outputs": [
    {
     "data": {
      "text/plain": [
       "15"
      ]
     },
     "execution_count": 50,
     "metadata": {},
     "output_type": "execute_result"
    }
   ],
   "source": [
    "adicao\n",
    "mutiplicacao"
   ]
  },
  {
   "cell_type": "markdown",
   "id": "f2025154",
   "metadata": {},
   "source": [
    "por padrão o **jupyter** mostra o valor da ultima variável usada sem atribuição (comando get)"
   ]
  },
  {
   "cell_type": "markdown",
   "id": "d23d1035",
   "metadata": {},
   "source": [
    "#  Métodos de saidas de dados (output)\n",
    "### usamos o metodo print() para mostrar dados ao usuário\n",
    "nós enviamos um texto (string) por parâmetro para a função print()"
   ]
  },
  {
   "cell_type": "markdown",
   "id": "2d211fc3",
   "metadata": {},
   "source": [
    "## Entendendo o vocabulario\n",
    "#### String \n",
    "É um tipomde variavel que representa texto.    \n",
    "Todo texto tem que estar aspas duplas ou simples (\"\") ('')   \n",
    "Ex:   \n",
    "'Texto'   \n",
    "\"Texto\"   "
   ]
  },
  {
   "cell_type": "markdown",
   "id": "726f9163",
   "metadata": {},
   "source": [
    "## Parâmetro\n",
    "são valores que vão vir a ser utilizados pela função que chamamos   \n",
    "colocamos no meio do parêntese da função   \n",
    "Ex:   \n",
    "main()   \n",
    "maiin(\"texto\",21)  \n",
    "print(\"texto a ser mostrado\""
   ]
  },
  {
   "cell_type": "code",
   "execution_count": null,
   "id": "3d9758b5",
   "metadata": {},
   "outputs": [],
   "source": [
    "def main():\n",
    "    # comandos\n",
    "    a = 1\n",
    "    b = 4\n",
    "    soma = a + b\n",
    "    print(\"a soma é: \", soma)\n",
    "    \n",
    "# -------------\n",
    "# A linha a seguir executa o programa\n",
    "main()"
   ]
  },
  {
   "cell_type": "code",
   "execution_count": 3,
   "id": "acd4e536",
   "metadata": {},
   "outputs": [
    {
     "name": "stdout",
     "output_type": "stream",
     "text": [
      "a soma de 1 com 4 é igual a: 5\n"
     ]
    }
   ],
   "source": [
    "def main():\n",
    "    # comandos\n",
    "    a = 1\n",
    "    b = 4\n",
    "    soma = a + b\n",
    "    print(\"a soma de\", a,\"com\", b, \"é igual a:\", soma)\n",
    "    \n",
    "# -------------\n",
    "# A linha a seguir executa o programa\n",
    "main()  "
   ]
  },
  {
   "cell_type": "markdown",
   "id": "754702ee",
   "metadata": {},
   "source": [
    "# Entrada de dados (input)  \n",
    "## Utilizamos o metodo input para receber dados do usuario  \n",
    "Atribuir a uma variavel o valor de um input  \n",
    "o input aceita um texto como parametro descrição do que vai ser recebido "
   ]
  },
  {
   "cell_type": "code",
   "execution_count": 7,
   "id": "caf564cb",
   "metadata": {},
   "outputs": [
    {
     "name": "stdout",
     "output_type": "stream",
     "text": [
      "Digite o seu primeiro numero: 5\n",
      "Digite o seu segundo numero: 6\n",
      "a soma de 5 com 6 é igual a: 56\n"
     ]
    }
   ],
   "source": [
    "# soma qualquer valor\n",
    "def main():\n",
    "    # comandos\n",
    "    a = input(\"Digite o seu primeiro numero: \")\n",
    "    b = input(\"Digite o seu segundo numero: \")\n",
    "    soma = a + b\n",
    "    print(\"a soma de\", a,\"com\", b, \"é igual a:\", soma)\n",
    "    \n",
    "# -------------\n",
    "# A linha a seguir executa o programa\n",
    "main()  "
   ]
  },
  {
   "cell_type": "code",
   "execution_count": 19,
   "id": "2cc73d06",
   "metadata": {},
   "outputs": [
    {
     "name": "stdout",
     "output_type": "stream",
     "text": [
      "Digite o seu primeiro nome: 5\n",
      "Digite o seu sobrenome: 6\n",
      "seu nome completo é 5 6\n"
     ]
    }
   ],
   "source": [
    "# soma qualquer valor\n",
    "def main():\n",
    "    # comandos\n",
    "    a = input(\"Digite o seu primeiro nome: \")\n",
    "    b = input(\"Digite o seu sobrenome: \")\n",
    "    soma = a + b\n",
    "    print(\"seu nome completo é\",a ,b)\n",
    "    \n",
    "# -------------\n",
    "# A linha a seguir executa o programa\n",
    "main()  "
   ]
  },
  {
   "cell_type": "markdown",
   "id": "1321a7bc",
   "metadata": {},
   "source": [
    "# Lembrente"
   ]
  },
  {
   "cell_type": "markdown",
   "id": "1097f697",
   "metadata": {},
   "source": [
    "Diferente do get, onde o jupyter mostra apenas o último, o print é nativo do python e pode ser usado antas vezes quiser  \n",
    "ex:"
   ]
  },
  {
   "cell_type": "code",
   "execution_count": 24,
   "id": "6938f9d4",
   "metadata": {},
   "outputs": [
    {
     "name": "stdout",
     "output_type": "stream",
     "text": [
      "a\n"
     ]
    }
   ],
   "source": [
    "print(\"a\")"
   ]
  },
  {
   "cell_type": "code",
   "execution_count": 25,
   "id": "6e45a59a",
   "metadata": {},
   "outputs": [
    {
     "name": "stdout",
     "output_type": "stream",
     "text": [
      "b\n"
     ]
    }
   ],
   "source": [
    "print(\"b\")"
   ]
  },
  {
   "cell_type": "code",
   "execution_count": 27,
   "id": "96989c08",
   "metadata": {},
   "outputs": [
    {
     "name": "stdout",
     "output_type": "stream",
     "text": [
      "a\n",
      "b\n",
      "c\n",
      "d\n"
     ]
    }
   ],
   "source": [
    "print(\"a\")\n",
    "print(\"b\")\n",
    "print(\"c\")\n",
    "print(\"d\")"
   ]
  },
  {
   "cell_type": "markdown",
   "id": "d94543e3",
   "metadata": {},
   "source": [
    "# Tipos de variáveis\n",
    "tipo define o comportamento e o entendimento daquela variável"
   ]
  },
  {
   "cell_type": "markdown",
   "id": "d6b53650",
   "metadata": {},
   "source": [
    "Ex:  \n",
    "Sendo numero ou texto  \n",
    " - 23 é um texto ou um número  \n",
    " - \"23\" é certamente um texto    \n",
    " - \"23\" tambem certamente é um texto  \n",
    " - 23 sem nada é um numero  \n",
    " - 23.0 tambem é um numero  "
   ]
  },
  {
   "cell_type": "code",
   "execution_count": 28,
   "id": "693b55c6",
   "metadata": {},
   "outputs": [
    {
     "data": {
      "text/plain": [
       "'2310'"
      ]
     },
     "execution_count": 28,
     "metadata": {},
     "output_type": "execute_result"
    }
   ],
   "source": [
    "\"23\" + \"10\""
   ]
  },
  {
   "cell_type": "code",
   "execution_count": 29,
   "id": "40df2da9",
   "metadata": {},
   "outputs": [
    {
     "data": {
      "text/plain": [
       "33"
      ]
     },
     "execution_count": 29,
     "metadata": {},
     "output_type": "execute_result"
    }
   ],
   "source": [
    "23 + 10"
   ]
  },
  {
   "cell_type": "markdown",
   "id": "9d13c979",
   "metadata": {},
   "source": [
    "**int**: inteiro (numero inteiro)  \n",
    "**str**: string (texto)\n",
    "**float**: ponto flutuante (Numero com virgula)"
   ]
  },
  {
   "cell_type": "code",
   "execution_count": 30,
   "id": "15ce2a17",
   "metadata": {},
   "outputs": [
    {
     "data": {
      "text/plain": [
       "int"
      ]
     },
     "execution_count": 30,
     "metadata": {},
     "output_type": "execute_result"
    }
   ],
   "source": [
    "type(23)"
   ]
  },
  {
   "cell_type": "code",
   "execution_count": 31,
   "id": "f42d5b55",
   "metadata": {},
   "outputs": [
    {
     "data": {
      "text/plain": [
       "str"
      ]
     },
     "execution_count": 31,
     "metadata": {},
     "output_type": "execute_result"
    }
   ],
   "source": [
    "type(\"23\")"
   ]
  },
  {
   "cell_type": "code",
   "execution_count": 32,
   "id": "d4e39832",
   "metadata": {},
   "outputs": [
    {
     "name": "stdout",
     "output_type": "stream",
     "text": [
      "Digite o seu primeiro numero: 5\n",
      "Digite o seu segundo numero: 6\n",
      "o tipo de a é <class 'str'>\n",
      "o tipo de b é <class 'str'>\n",
      "a soma de 5 com 6 é igual a: 56\n"
     ]
    }
   ],
   "source": [
    "# soma qualquer valor\n",
    "def main():\n",
    "    # comandos\n",
    "    a = input(\"Digite o seu primeiro numero: \")\n",
    "    b = input(\"Digite o seu segundo numero: \")\n",
    "    soma = a + b\n",
    "    print(\"o tipo de a é\",type(a))\n",
    "    print(\"o tipo de b é\",type(b))\n",
    "    print(\"a soma de\", a,\"com\", b, \"é igual a:\", soma)\n",
    "    \n",
    "# -------------\n",
    "# A linha a seguir executa o programa\n",
    "main()"
   ]
  },
  {
   "cell_type": "markdown",
   "id": "a1804bc2",
   "metadata": {},
   "source": [
    "## convertendo tipos"
   ]
  },
  {
   "cell_type": "markdown",
   "id": "e6736ab3",
   "metadata": {},
   "source": [
    "Na programação chamamos essa conversão de cast"
   ]
  },
  {
   "cell_type": "code",
   "execution_count": 33,
   "id": "155227e5",
   "metadata": {},
   "outputs": [
    {
     "data": {
      "text/plain": [
       "23"
      ]
     },
     "execution_count": 33,
     "metadata": {},
     "output_type": "execute_result"
    }
   ],
   "source": [
    "int(\"23\")"
   ]
  },
  {
   "cell_type": "code",
   "execution_count": null,
   "id": "64156bde",
   "metadata": {},
   "outputs": [],
   "source": [
    "str(23)"
   ]
  },
  {
   "cell_type": "code",
   "execution_count": null,
   "id": "42154458",
   "metadata": {},
   "outputs": [],
   "source": [
    "# soma qualquer valor\n",
    "def main():\n",
    "    # comandos\n",
    "    a = int(input(\"Digite o seu primeiro numero: \"))\n",
    "    b = int(input(\"Digite o seu segundo numero: \"))\n",
    "    soma = a + b\n",
    "    print(\"o tipo de a é\",type(a))\n",
    "    print(\"o tipo de b é\",type(b))\n",
    "    print(\"a soma de\", a,\"com\", b, \"é igual a:\", soma)\n",
    "    \n",
    "# -------------\n",
    "# A linha a seguir executa o programa\n",
    "main()"
   ]
  },
  {
   "cell_type": "markdown",
   "id": "05a7a3cb",
   "metadata": {},
   "source": [
    "## tentativa com numero 'quebrado' (com virgula)"
   ]
  },
  {
   "cell_type": "code",
   "execution_count": 51,
   "id": "07b5e820",
   "metadata": {},
   "outputs": [
    {
     "ename": "KeyboardInterrupt",
     "evalue": "Interrupted by user",
     "output_type": "error",
     "traceback": [
      "\u001b[1;31m---------------------------------------------------------------------------\u001b[0m",
      "\u001b[1;31mKeyboardInterrupt\u001b[0m                         Traceback (most recent call last)",
      "\u001b[1;32m~\\AppData\\Local\\Temp/ipykernel_12004/1797813719.py\u001b[0m in \u001b[0;36m<module>\u001b[1;34m\u001b[0m\n\u001b[0;32m     11\u001b[0m \u001b[1;31m# -------------\u001b[0m\u001b[1;33m\u001b[0m\u001b[1;33m\u001b[0m\u001b[0m\n\u001b[0;32m     12\u001b[0m \u001b[1;31m# A linha a seguir executa o programa\u001b[0m\u001b[1;33m\u001b[0m\u001b[1;33m\u001b[0m\u001b[0m\n\u001b[1;32m---> 13\u001b[1;33m \u001b[0mmain\u001b[0m\u001b[1;33m(\u001b[0m\u001b[1;33m)\u001b[0m\u001b[1;33m\u001b[0m\u001b[1;33m\u001b[0m\u001b[0m\n\u001b[0m",
      "\u001b[1;32m~\\AppData\\Local\\Temp/ipykernel_12004/1797813719.py\u001b[0m in \u001b[0;36mmain\u001b[1;34m()\u001b[0m\n\u001b[0;32m      2\u001b[0m \u001b[1;32mdef\u001b[0m \u001b[0mmain\u001b[0m\u001b[1;33m(\u001b[0m\u001b[1;33m)\u001b[0m\u001b[1;33m:\u001b[0m\u001b[1;33m\u001b[0m\u001b[1;33m\u001b[0m\u001b[0m\n\u001b[0;32m      3\u001b[0m     \u001b[1;31m# comandos\u001b[0m\u001b[1;33m\u001b[0m\u001b[1;33m\u001b[0m\u001b[0m\n\u001b[1;32m----> 4\u001b[1;33m     \u001b[0ma\u001b[0m \u001b[1;33m=\u001b[0m \u001b[0mfloat\u001b[0m\u001b[1;33m(\u001b[0m\u001b[0minput\u001b[0m\u001b[1;33m(\u001b[0m\u001b[1;34m\"Digite o seu primeiro numero: \"\u001b[0m\u001b[1;33m)\u001b[0m\u001b[1;33m)\u001b[0m\u001b[1;33m\u001b[0m\u001b[1;33m\u001b[0m\u001b[0m\n\u001b[0m\u001b[0;32m      5\u001b[0m     \u001b[0mb\u001b[0m \u001b[1;33m=\u001b[0m \u001b[0mfloat\u001b[0m\u001b[1;33m(\u001b[0m\u001b[0minput\u001b[0m\u001b[1;33m(\u001b[0m\u001b[1;34m\"Digite o seu segundo numero: \"\u001b[0m\u001b[1;33m)\u001b[0m\u001b[1;33m)\u001b[0m\u001b[1;33m\u001b[0m\u001b[1;33m\u001b[0m\u001b[0m\n\u001b[0;32m      6\u001b[0m     \u001b[0msoma\u001b[0m \u001b[1;33m=\u001b[0m \u001b[0ma\u001b[0m \u001b[1;33m+\u001b[0m \u001b[0mb\u001b[0m\u001b[1;33m\u001b[0m\u001b[1;33m\u001b[0m\u001b[0m\n",
      "\u001b[1;32m~\\anaconda3\\lib\\site-packages\\ipykernel\\kernelbase.py\u001b[0m in \u001b[0;36mraw_input\u001b[1;34m(self, prompt)\u001b[0m\n\u001b[0;32m   1004\u001b[0m                 \u001b[1;34m\"raw_input was called, but this frontend does not support input requests.\"\u001b[0m\u001b[1;33m\u001b[0m\u001b[1;33m\u001b[0m\u001b[0m\n\u001b[0;32m   1005\u001b[0m             )\n\u001b[1;32m-> 1006\u001b[1;33m         return self._input_request(\n\u001b[0m\u001b[0;32m   1007\u001b[0m             \u001b[0mstr\u001b[0m\u001b[1;33m(\u001b[0m\u001b[0mprompt\u001b[0m\u001b[1;33m)\u001b[0m\u001b[1;33m,\u001b[0m\u001b[1;33m\u001b[0m\u001b[1;33m\u001b[0m\u001b[0m\n\u001b[0;32m   1008\u001b[0m             \u001b[0mself\u001b[0m\u001b[1;33m.\u001b[0m\u001b[0m_parent_ident\u001b[0m\u001b[1;33m[\u001b[0m\u001b[1;34m\"shell\"\u001b[0m\u001b[1;33m]\u001b[0m\u001b[1;33m,\u001b[0m\u001b[1;33m\u001b[0m\u001b[1;33m\u001b[0m\u001b[0m\n",
      "\u001b[1;32m~\\anaconda3\\lib\\site-packages\\ipykernel\\kernelbase.py\u001b[0m in \u001b[0;36m_input_request\u001b[1;34m(self, prompt, ident, parent, password)\u001b[0m\n\u001b[0;32m   1049\u001b[0m             \u001b[1;32mexcept\u001b[0m \u001b[0mKeyboardInterrupt\u001b[0m\u001b[1;33m:\u001b[0m\u001b[1;33m\u001b[0m\u001b[1;33m\u001b[0m\u001b[0m\n\u001b[0;32m   1050\u001b[0m                 \u001b[1;31m# re-raise KeyboardInterrupt, to truncate traceback\u001b[0m\u001b[1;33m\u001b[0m\u001b[1;33m\u001b[0m\u001b[0m\n\u001b[1;32m-> 1051\u001b[1;33m                 \u001b[1;32mraise\u001b[0m \u001b[0mKeyboardInterrupt\u001b[0m\u001b[1;33m(\u001b[0m\u001b[1;34m\"Interrupted by user\"\u001b[0m\u001b[1;33m)\u001b[0m \u001b[1;32mfrom\u001b[0m \u001b[1;32mNone\u001b[0m\u001b[1;33m\u001b[0m\u001b[1;33m\u001b[0m\u001b[0m\n\u001b[0m\u001b[0;32m   1052\u001b[0m             \u001b[1;32mexcept\u001b[0m \u001b[0mException\u001b[0m\u001b[1;33m:\u001b[0m\u001b[1;33m\u001b[0m\u001b[1;33m\u001b[0m\u001b[0m\n\u001b[0;32m   1053\u001b[0m                 \u001b[0mself\u001b[0m\u001b[1;33m.\u001b[0m\u001b[0mlog\u001b[0m\u001b[1;33m.\u001b[0m\u001b[0mwarning\u001b[0m\u001b[1;33m(\u001b[0m\u001b[1;34m\"Invalid Message:\"\u001b[0m\u001b[1;33m,\u001b[0m \u001b[0mexc_info\u001b[0m\u001b[1;33m=\u001b[0m\u001b[1;32mTrue\u001b[0m\u001b[1;33m)\u001b[0m\u001b[1;33m\u001b[0m\u001b[1;33m\u001b[0m\u001b[0m\n",
      "\u001b[1;31mKeyboardInterrupt\u001b[0m: Interrupted by user"
     ]
    },
    {
     "name": "stdout",
     "output_type": "stream",
     "text": [
      "Digite o seu primeiro numero: 56.9\n"
     ]
    }
   ],
   "source": [
    "# soma qualquer valor\n",
    "def main():\n",
    "    # comandos\n",
    "    a = float(input(\"Digite o seu primeiro numero: \"))\n",
    "    b = float(input(\"Digite o seu segundo numero: \"))\n",
    "    soma = a + b\n",
    "    print(\"o tipo de a é\",type(a))\n",
    "    print(\"o tipo de b é\",type(b))\n",
    "    print(\"a soma de\", a,\"com\", b, \"é igual a:\", soma)\n",
    "    \n",
    "# -------------\n",
    "# A linha a seguir executa o programa\n",
    "main()"
   ]
  },
  {
   "cell_type": "code",
   "execution_count": 42,
   "id": "c9d6471d",
   "metadata": {},
   "outputs": [
    {
     "data": {
      "text/plain": [
       "float"
      ]
     },
     "execution_count": 42,
     "metadata": {},
     "output_type": "execute_result"
    }
   ],
   "source": [
    "type(23.5)"
   ]
  },
  {
   "cell_type": "markdown",
   "id": "8533dc57",
   "metadata": {},
   "source": [
    "## Exercio 2.3\n",
    "Fazer uma função que mutilipique dois numeros entrados pelo usuario"
   ]
  },
  {
   "cell_type": "code",
   "execution_count": 55,
   "id": "4b721943",
   "metadata": {},
   "outputs": [
    {
     "name": "stdout",
     "output_type": "stream",
     "text": [
      "Digite o seu primeiro numero: 6\n",
      "Digite o seu segundo numero: 8\n",
      "a mutiplicação de 6.0 com 8.0 é igual a: 48.0 :\n"
     ]
    }
   ],
   "source": [
    "def main():\n",
    "    a = float(input(\"Digite o seu primeiro numero: \"))\n",
    "    b = float(input(\"Digite o seu segundo numero: \"))\n",
    "    mutiplicar = a * b\n",
    "    print(f\"a mutiplicação de {a} com {b} é igual a: {mutiplicar}\")\n",
    "    \n",
    "main()"
   ]
  },
  {
   "cell_type": "markdown",
   "id": "aa8b8f86",
   "metadata": {},
   "source": [
    "## Exercio 2.4\n",
    "Fazer uma função que divida dois numeros entrados pelo usuario"
   ]
  },
  {
   "cell_type": "code",
   "execution_count": 53,
   "id": "a6672cb7",
   "metadata": {},
   "outputs": [
    {
     "name": "stdout",
     "output_type": "stream",
     "text": [
      "Digite o seu primeiro numero: 5\n",
      "Digite o seu segundo numero: 9\n",
      "a mutiplicação de 5 com 9 é igual a: 0.5555555555555556\n"
     ]
    }
   ],
   "source": [
    "def main():\n",
    "    a = float(input(\"Digite o seu primeiro numero: \"))\n",
    "    b = float(input(\"Digite o seu segundo numero: \"))\n",
    "    dividir = a / b\n",
    "    print(f\"a divisão de {a} com {b} é igual a: {dividir}\")\n",
    "    \n",
    "main()"
   ]
  },
  {
   "cell_type": "markdown",
   "id": "ed211a78",
   "metadata": {},
   "source": [
    "## Exercio 2.5\n",
    "FAzer uma função que subtraia quatro numeros entrados pelo usuario"
   ]
  },
  {
   "cell_type": "code",
   "execution_count": 58,
   "id": "4387e209",
   "metadata": {},
   "outputs": [
    {
     "name": "stdout",
     "output_type": "stream",
     "text": [
      "Digite o seu primeiro numero: 6\n",
      "Digite o seu segundo numero: 9\n",
      "Digite o seu terceiro numero: 6\n",
      "Digite o seu quarto numero: -40\n",
      "a subtração de 6.0 , 9.0 , 6.0 e -40.0 é igual a: 31.0\n"
     ]
    }
   ],
   "source": [
    "def main():\n",
    "    a = float(input(\"Digite o seu primeiro numero: \"))\n",
    "    b = float(input(\"Digite o seu segundo numero: \"))\n",
    "    c = float(input(\"Digite o seu terceiro numero: \"))\n",
    "    d = float(input(\"Digite o seu quarto numero: \"))\n",
    "    diminuir = a - b - c - d\n",
    "    print(f\"a subtração de {a} , {b} , {c} e {d} é igual a: {diminuir}\")\n",
    "    \n",
    "main()"
   ]
  },
  {
   "cell_type": "markdown",
   "id": "30a4a08c",
   "metadata": {},
   "source": [
    "# Formatação de strings"
   ]
  },
  {
   "cell_type": "markdown",
   "id": "612e40ba",
   "metadata": {},
   "source": [
    "## Podemos formatar com o format"
   ]
  },
  {
   "cell_type": "markdown",
   "id": "172edc04",
   "metadata": {},
   "source": [
    "\"string original com {} para indicar as posiçoes do format, onde vamos trocar a string\".format(variavel_para_formatar)"
   ]
  },
  {
   "cell_type": "code",
   "execution_count": 64,
   "id": "a6da5708",
   "metadata": {},
   "outputs": [],
   "source": [
    "num1 = 10\n",
    "letra = \"a\"\n",
    "palavra = \"bylear\""
   ]
  },
  {
   "cell_type": "code",
   "execution_count": 66,
   "id": "bf334223",
   "metadata": {},
   "outputs": [
    {
     "data": {
      "text/plain": [
       "'meu numero vale 10, minha letra vale a, minha palavra vale bylear'"
      ]
     },
     "execution_count": 66,
     "metadata": {},
     "output_type": "execute_result"
    }
   ],
   "source": [
    "\"meu numero vale {}, minha letra vale {}, minha palavra vale {}\".format(num1,letra,palavra)"
   ]
  },
  {
   "cell_type": "markdown",
   "id": "bd470bf0",
   "metadata": {},
   "source": [
    "## Podemos formatar com o f-string\n",
    "são strings começadas com f antes das aspas.  \n",
    "Nela colocamos os valores das variaveis dentro das {}"
   ]
  },
  {
   "cell_type": "code",
   "execution_count": 68,
   "id": "7485fd81",
   "metadata": {},
   "outputs": [
    {
     "data": {
      "text/plain": [
       "'meu numero vale 10, minha letra vale a e minha palavra vale bylear'"
      ]
     },
     "execution_count": 68,
     "metadata": {},
     "output_type": "execute_result"
    }
   ],
   "source": [
    "f\"meu numero vale {num1}, minha letra vale {letra} e minha palavra vale {palavra}\""
   ]
  },
  {
   "cell_type": "markdown",
   "id": "9b08295f",
   "metadata": {},
   "source": [
    "## Formatando numeros\n",
    "Podemos modificar a saida dos numeros sem modificar os valores finais deles  \n",
    "Ex:  \n",
    " numero 2 => valor é 2   \n",
    " saida => 2.00 => valor ainda é 2   \n",
    " \n",
    " Numero 2.5 => valor é 2.5   \n",
    " Saida => 2 => valor ainda é 2.5"
   ]
  },
  {
   "cell_type": "code",
   "execution_count": 69,
   "id": "0544c710",
   "metadata": {},
   "outputs": [
    {
     "name": "stdout",
     "output_type": "stream",
     "text": [
      "2.57\n"
     ]
    }
   ],
   "source": [
    "num1 = 2.57\n",
    "print(num1)"
   ]
  },
  {
   "cell_type": "markdown",
   "id": "82f7b57f",
   "metadata": {},
   "source": [
    "Para int uso o 'd' e para float uso  'f'"
   ]
  },
  {
   "cell_type": "code",
   "execution_count": 76,
   "id": "64cb2d71",
   "metadata": {},
   "outputs": [
    {
     "name": "stdout",
     "output_type": "stream",
     "text": [
      "2.57\n",
      "2.6\n",
      "3\n",
      "2.57\n",
      "2.6\n",
      "3\n"
     ]
    }
   ],
   "source": [
    "print('{:.2f}'.format(num1))\n",
    "print('{:.1f}'.format(num1))\n",
    "print('{:.0f}'.format(num1))\n",
    "print(f\"{num1:.2f}\")\n",
    "print(f\"{num1:.1f}\")\n",
    "print(f\"{num1:.0f}\")"
   ]
  },
  {
   "cell_type": "code",
   "execution_count": 72,
   "id": "c7c5d5a6",
   "metadata": {},
   "outputs": [
    {
     "data": {
      "text/plain": [
       "2.57"
      ]
     },
     "execution_count": 72,
     "metadata": {},
     "output_type": "execute_result"
    }
   ],
   "source": [
    "num1"
   ]
  },
  {
   "cell_type": "code",
   "execution_count": 73,
   "id": "42ceff4b",
   "metadata": {},
   "outputs": [
    {
     "data": {
      "text/plain": [
       "3.3333333333333335"
      ]
     },
     "execution_count": 73,
     "metadata": {},
     "output_type": "execute_result"
    }
   ],
   "source": [
    "10/3"
   ]
  },
  {
   "cell_type": "code",
   "execution_count": 75,
   "id": "bca698f7",
   "metadata": {},
   "outputs": [
    {
     "name": "stdout",
     "output_type": "stream",
     "text": [
      "3.333\n",
      "3.33\n"
     ]
    }
   ],
   "source": [
    "print('{:.3f}'.format(10/3))\n",
    "print(f\"{10/3:.2f}\")"
   ]
  },
  {
   "cell_type": "code",
   "execution_count": null,
   "id": "7cb01672",
   "metadata": {},
   "outputs": [],
   "source": []
  }
 ],
 "metadata": {
  "kernelspec": {
   "display_name": "Python 3 (ipykernel)",
   "language": "python",
   "name": "python3"
  },
  "language_info": {
   "codemirror_mode": {
    "name": "ipython",
    "version": 3
   },
   "file_extension": ".py",
   "mimetype": "text/x-python",
   "name": "python",
   "nbconvert_exporter": "python",
   "pygments_lexer": "ipython3",
   "version": "3.9.7"
  }
 },
 "nbformat": 4,
 "nbformat_minor": 5
}
