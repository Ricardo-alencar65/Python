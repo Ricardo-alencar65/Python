{
 "cells": [
  {
   "cell_type": "markdown",
   "id": "00e89e73",
   "metadata": {},
   "source": [
    "# Laços de repetição  \n",
    "## Necessidade de uso  \n",
    "Precisamos interagir com varios elementos de uma lista ou grupo de dados ou com dados de tamanho dinamico"
   ]
  },
  {
   "cell_type": "markdown",
   "id": "510f8092",
   "metadata": {},
   "source": [
    "EX: Em vez de fazermos igual abaixo, um caso para cada quantidade de dados, nós podemos fazer uma vez só para qualquer quantidade"
   ]
  },
  {
   "cell_type": "code",
   "execution_count": 2,
   "id": "f2e5aec1",
   "metadata": {},
   "outputs": [
    {
     "name": "stdout",
     "output_type": "stream",
     "text": [
      "felipe\n",
      "haynes\n",
      "alisson\n",
      "bylearn\n"
     ]
    }
   ],
   "source": [
    "# Lista de todos os alunos\n",
    "alunos = [\"felipe\",\"haynes\",\"alisson\"]\n",
    "\n",
    "alunos.append(\"bylearn\")\n",
    "\n",
    "if(len(alunos) == 0):\n",
    "    print(\"não tem nenhum aluno\")\n",
    "elif(len(alunos) == 1):\n",
    "    print(alunos[0])\n",
    "elif(len(alunos) == 2):\n",
    "    print(alunos[0])\n",
    "    print(alunos[1])\n",
    "elif(len(alunos) == 3):\n",
    "    print(alunos[0])\n",
    "    print(alunos[1])\n",
    "    print(alunos[2])\n",
    "elif(len(alunos) == 4):\n",
    "    print(alunos[0])\n",
    "    print(alunos[1])\n",
    "    print(alunos[2])\n",
    "    print(alunos[3])"
   ]
  },
  {
   "cell_type": "markdown",
   "id": "b46d12ed",
   "metadata": {},
   "source": [
    "## Para laços de repetição podemos utilizar o comando FOR\n",
    "#### Ele é utilizado da seguinte maneira: \"for iterando in lista\""
   ]
  },
  {
   "cell_type": "code",
   "execution_count": 4,
   "id": "b8b4b2c9",
   "metadata": {},
   "outputs": [
    {
     "name": "stdout",
     "output_type": "stream",
     "text": [
      "felipe\n",
      "haynes\n",
      "alisson\n",
      "bylearn\n"
     ]
    }
   ],
   "source": [
    "alunos = [\"felipe\",\"haynes\",\"alisson\"]\n",
    "\n",
    "alunos.append(\"bylearn\")\n",
    "\n",
    "# Para todos os alunos => vou printar o nome\n",
    "for  aluno in alunos:\n",
    "    print(aluno)"
   ]
  },
  {
   "cell_type": "code",
   "execution_count": 5,
   "id": "8330e1f4",
   "metadata": {},
   "outputs": [
    {
     "data": {
      "text/plain": [
       "[1, 2, 3, 4]"
      ]
     },
     "execution_count": 5,
     "metadata": {},
     "output_type": "execute_result"
    }
   ],
   "source": [
    "lista = [1,2,3,4]\n",
    "lista"
   ]
  },
  {
   "cell_type": "code",
   "execution_count": 7,
   "id": "5b3829f8",
   "metadata": {},
   "outputs": [
    {
     "data": {
      "text/plain": [
       "[[1, 2], [3, 4]]"
      ]
     },
     "execution_count": 7,
     "metadata": {},
     "output_type": "execute_result"
    }
   ],
   "source": [
    "lista_ponto = [[1,2],[3,4]]\n",
    "lista_ponto"
   ]
  },
  {
   "cell_type": "code",
   "execution_count": 9,
   "id": "f3ba73f6",
   "metadata": {},
   "outputs": [
    {
     "data": {
      "text/plain": [
       "[1, 2]"
      ]
     },
     "execution_count": 9,
     "metadata": {},
     "output_type": "execute_result"
    }
   ],
   "source": [
    "lista_ponto[0]"
   ]
  },
  {
   "cell_type": "code",
   "execution_count": 11,
   "id": "955d59e2",
   "metadata": {},
   "outputs": [
    {
     "data": {
      "text/plain": [
       "1"
      ]
     },
     "execution_count": 11,
     "metadata": {},
     "output_type": "execute_result"
    }
   ],
   "source": [
    "lista_ponto[0][0]"
   ]
  },
  {
   "cell_type": "markdown",
   "id": "d20c0b80",
   "metadata": {},
   "source": [
    "## Desafio 5.1  \n",
    "Criar uma lista de notas e adicionar entre 5 e 10 notas ao seu criterio  \n",
    "por fim, printar todas as notas dessa lista através de um laço for\n"
   ]
  },
  {
   "cell_type": "code",
   "execution_count": 23,
   "id": "ccbbbb77",
   "metadata": {},
   "outputs": [
    {
     "name": "stdout",
     "output_type": "stream",
     "text": [
      "1\n",
      "2\n",
      "3\n",
      "4\n",
      "5\n"
     ]
    }
   ],
   "source": [
    "notas = []\n",
    "notas.append(1)\n",
    "notas.append(2)\n",
    "notas.append(3)\n",
    "notas.append(4)\n",
    "notas.append(5)\n",
    "\n",
    "for notaa in notas:\n",
    "    \n",
    "    print(notaa)"
   ]
  },
  {
   "cell_type": "markdown",
   "id": "848a9529",
   "metadata": {},
   "source": [
    "**Para utilizarmos um intervalo no FOR (ou seja, de X até Y), podemos usar a função range()**  \n",
    "Com a função range() nós podemos fazer o bloco for interar quantas vezes definimos"
   ]
  },
  {
   "cell_type": "code",
   "execution_count": 24,
   "id": "626e12ae",
   "metadata": {},
   "outputs": [
    {
     "name": "stdout",
     "output_type": "stream",
     "text": [
      "1\n",
      "2\n",
      "3\n",
      "4\n",
      "5\n",
      "4\n",
      "5\n",
      "6\n",
      "7\n",
      "8\n",
      "9\n",
      "10\n"
     ]
    }
   ],
   "source": [
    "nota = []\n",
    "\n",
    "for i in range(4,11):\n",
    "    notas.append(i)\n",
    "    \n",
    "for notaa in notas:\n",
    "    print(notaa)"
   ]
  },
  {
   "cell_type": "markdown",
   "id": "b163f588",
   "metadata": {},
   "source": [
    "**Assim como podemos ter listas dentro de listas, nós podemos ter for dentro de for**  \n",
    "Na computação chamamos isso de for aninhado"
   ]
  },
  {
   "cell_type": "code",
   "execution_count": 28,
   "id": "79af302a",
   "metadata": {},
   "outputs": [
    {
     "name": "stdout",
     "output_type": "stream",
     "text": [
      "Felipe\n",
      "alisson\n",
      "Haynes\n",
      "bylearn\n",
      "9.0\n",
      "8.5\n",
      "8.5\n",
      "10.0\n"
     ]
    }
   ],
   "source": [
    "def main():\n",
    "    # Felipe,alisson,Haynes, bylearn\n",
    "    alunos = [\"Felipe\",\"alisson\",\"Haynes\", \"bylearn\"]\n",
    "    # 8 e 10, 10 e 7, 8 e 9, 10 e 10\n",
    "    notas = [[8,10], [10,7], [8,9],[10,10]]\n",
    "    \n",
    "    for aluno in alunos:\n",
    "        print(aluno)\n",
    "        \n",
    "    \n",
    "    # Media de [primeiro aluno]  = [notas do 1] / 2\n",
    "    # Para todos -> Media do [Atual] = [Notas do atual] / 2\n",
    "    \n",
    "    for lista_notas in notas:\n",
    "        soma = 0\n",
    "        for nota in lista_notas:\n",
    "            soma += nota\n",
    "        media = soma / len(lista_notas)\n",
    "        print(media)\n",
    "        \n",
    "    # Media de [primeiro aluno]  = [notas do 1] / 2\n",
    "    # Para todos -> Media do [Atual] = [Notas do atual] / 2\n",
    "    \n",
    "\n",
    "main()"
   ]
  },
  {
   "cell_type": "markdown",
   "id": "fa18e431",
   "metadata": {},
   "source": [
    "**Os laços for (laços de repetição) são muito uteis para se trabalhar com indices**"
   ]
  },
  {
   "cell_type": "code",
   "execution_count": 44,
   "id": "7ef84c90",
   "metadata": {},
   "outputs": [
    {
     "name": "stdout",
     "output_type": "stream",
     "text": [
      "O aluno Felipe tem a media 9.0\n",
      "-Portanto, ele foi aprovado\n",
      "O aluno alisson tem a media 8.5\n",
      "-Portanto, ele foi aprovado\n",
      "O aluno Haynes tem a media 8.5\n",
      "-Portanto, ele foi aprovado\n",
      "O aluno bylearn tem a media 10.0\n",
      "-Portanto, ele foi aprovado\n",
      "O aluno aluno novo tem a media 4.5\n",
      "- Portanto, ele foi reprovado\n"
     ]
    }
   ],
   "source": [
    "def main():\n",
    "    # Felipe,alisson,Haynes, bylearn\n",
    "    alunos = [\"Felipe\",\"alisson\",\"Haynes\", \"bylearn\",\"aluno novo\"]\n",
    "    # 8 e 10, 10 e 7, 8 e 9, 10 e 10\n",
    "    notas = [[8,10], [10,7], [8,9],[10,10],[5,4]]\n",
    "    \n",
    "    # Media de [primeiro aluno]  = [notas do 1] / 2\n",
    "    # Para todos -> Media do [Atual] = [Notas do atual] / 2\n",
    "\n",
    "    if(len(alunos) == len(notas)):\n",
    "        for indice in range(len(alunos)):\n",
    "            soma = 0\n",
    "            for nota in notas[indice]:\n",
    "                soma += nota\n",
    "                \n",
    "            media = soma / len(notas[indice])\n",
    "            print(f\"O aluno {alunos[indice]} tem a media {media}\")\n",
    "            if (media > 6):\n",
    "                print(\"-Portanto, ele foi aprovado\")\n",
    "            else:\n",
    "                print(\"- Portanto, ele foi reprovado\")\n",
    "    else:\n",
    "        print(\"Tem algo de errado\\nprovavelmente algum aluno não fez prova\")\n",
    "\n",
    "main()"
   ]
  },
  {
   "cell_type": "markdown",
   "id": "3f808772",
   "metadata": {},
   "source": [
    "**Os laços de repertição for tambem funcionam com string, mostrando caracter por caracter**"
   ]
  },
  {
   "cell_type": "code",
   "execution_count": 3,
   "id": "8b8028f2",
   "metadata": {},
   "outputs": [
    {
     "name": "stdout",
     "output_type": "stream",
     "text": [
      "c\n",
      "u\n",
      "r\n",
      "s\n",
      "o\n",
      " \n",
      "d\n",
      "e\n",
      " \n",
      "p\n",
      "y\n",
      "t\n",
      "h\n",
      "o\n",
      "n\n",
      " \n",
      "d\n",
      "a\n",
      " \n",
      "b\n",
      "y\n",
      "l\n",
      "e\n",
      "a\n",
      "r\n",
      "n\n"
     ]
    }
   ],
   "source": [
    "string = \"curso de python da bylearn\"\n",
    "\n",
    "for char in string:  # para cada caractere na string\n",
    "    print(char)"
   ]
  },
  {
   "cell_type": "code",
   "execution_count": 6,
   "id": "63ad632a",
   "metadata": {},
   "outputs": [
    {
     "name": "stdout",
     "output_type": "stream",
     "text": [
      "0\n",
      "b\n",
      "1\n",
      "y\n",
      "2\n",
      "l\n",
      "3\n",
      "e\n",
      "4\n",
      "a\n",
      "5\n",
      "r\n",
      "6\n",
      "n\n"
     ]
    }
   ],
   "source": [
    "lista = [\"b\", \"y\",\"l\",\"e\",\"a\",\"r\",\"n\"]\n",
    "\n",
    "for valor in enumerate(lista):\n",
    "    for indice in valor:\n",
    "        print(indice)"
   ]
  },
  {
   "cell_type": "markdown",
   "id": "781263c2",
   "metadata": {},
   "source": [
    "**primeiro: nós podemos usar o enumerete() para alem do valor, tembem termos o indice**  \n",
    "**Segunda: não precisamos necessariamente usar for aninhado, poodemos usar a virgula para definir os elementos que queremos recuperar (ex: chave, valor)**"
   ]
  },
  {
   "cell_type": "code",
   "execution_count": 7,
   "id": "e4a653b0",
   "metadata": {},
   "outputs": [
    {
     "name": "stdout",
     "output_type": "stream",
     "text": [
      "0 b\n",
      "1 y\n",
      "2 l\n",
      "3 e\n",
      "4 a\n",
      "5 r\n",
      "6 n\n"
     ]
    }
   ],
   "source": [
    "lista = [\"b\", \"y\",\"l\",\"e\",\"a\",\"r\",\"n\"]\n",
    "\n",
    "#  chave = indice\n",
    "\n",
    "for chave, valor in enumerate(lista):\n",
    "    print(chave,valor)"
   ]
  },
  {
   "cell_type": "markdown",
   "id": "18a3c7d2",
   "metadata": {},
   "source": [
    "## outro laço de repetição é o While, que significa Enquanto  \n",
    "### Funciona enquanto uma condição for verdadeira fazendo uma determinada ação"
   ]
  },
  {
   "cell_type": "code",
   "execution_count": 8,
   "id": "20b72da4",
   "metadata": {},
   "outputs": [
    {
     "name": "stdout",
     "output_type": "stream",
     "text": [
      "1\n",
      "2\n",
      "3\n",
      "4\n",
      "5\n"
     ]
    }
   ],
   "source": [
    "contador = 1\n",
    "\n",
    "while contador < 6:\n",
    "    print(contador) # devemos tomar cuidado para não entrar em loop\n",
    "    contador += 1"
   ]
  },
  {
   "cell_type": "code",
   "execution_count": 14,
   "id": "0e6232f3",
   "metadata": {},
   "outputs": [
    {
     "name": "stdout",
     "output_type": "stream",
     "text": [
      "digite um numero 9\n",
      "0\n",
      "1\n",
      "2\n",
      "3\n",
      "4\n",
      "5\n",
      "6\n",
      "7\n",
      "8\n"
     ]
    }
   ],
   "source": [
    "condicao_de_parada = \"0\"\n",
    "\n",
    "while condicao_de_parada != \"9\":\n",
    "    condicao_de_parada = input(\"digite um numero \")\n",
    "    for i in range(int(condicao_de_parada)):\n",
    "        print(i)\n",
    "           "
   ]
  },
  {
   "cell_type": "markdown",
   "id": "feb66091",
   "metadata": {},
   "source": [
    "Lembrete: Não da para usar For em um int, precisa ser em um intervalo (algo iteravel)"
   ]
  },
  {
   "cell_type": "code",
   "execution_count": 13,
   "id": "66e50bcb",
   "metadata": {},
   "outputs": [
    {
     "name": "stdout",
     "output_type": "stream",
     "text": [
      "digite um numero 3\n",
      "1\n",
      "2\n",
      "3\n",
      "digite um numero 8\n",
      "1\n",
      "2\n",
      "3\n",
      "4\n",
      "5\n",
      "6\n",
      "7\n",
      "8\n",
      "digite um numero 9\n",
      "1\n",
      "2\n",
      "3\n",
      "4\n",
      "5\n",
      "6\n",
      "7\n",
      "8\n",
      "9\n"
     ]
    }
   ],
   "source": [
    "condicao_de_parada = \"0\"\n",
    "\n",
    "while condicao_de_parada != \"9\":\n",
    "    condicao_de_parada = input(\"digite um numero \")\n",
    "    for i in range(1,int(condicao_de_parada)+1):\n",
    "        print(i)"
   ]
  },
  {
   "cell_type": "markdown",
   "id": "e4e4bbbb",
   "metadata": {},
   "source": [
    "## Utilizando continue e Break\n",
    "**continue** => continuar em portugues => continuo a minha operação de loop => vou para a proxima etapa  \n",
    "**Break** => Quebra em portugues => quebrar a minha operação de loop =>interromper o loop nessa etapa"
   ]
  },
  {
   "cell_type": "code",
   "execution_count": 19,
   "id": "80395892",
   "metadata": {},
   "outputs": [
    {
     "name": "stdout",
     "output_type": "stream",
     "text": [
      "1\n",
      "2\n",
      "10\n",
      "11\n",
      "12\n",
      "13\n",
      "14\n",
      "15\n"
     ]
    }
   ],
   "source": [
    "i = 1\n",
    "\n",
    "while i < 5:\n",
    "    print(i)\n",
    "    i += 1\n",
    "    if i == 3:\n",
    "        break\n",
    "        \n",
    "for x in range(10,20):\n",
    "    print(x)\n",
    "    if x == 15:\n",
    "        break"
   ]
  },
  {
   "cell_type": "code",
   "execution_count": 24,
   "id": "aa664684",
   "metadata": {},
   "outputs": [
    {
     "name": "stdout",
     "output_type": "stream",
     "text": [
      "1\n",
      "2\n",
      "4\n",
      "5\n",
      "6\n",
      "10\n",
      "11\n",
      "12\n",
      "13\n",
      "14\n",
      "16\n",
      "17\n",
      "18\n",
      "19\n"
     ]
    }
   ],
   "source": [
    "i = 0\n",
    "\n",
    "while i < 6:\n",
    "    i+=1\n",
    "    if i == 3:\n",
    "        continue # nesse caso ele viu que agora ia da 3, e acabou pulando o 3\n",
    "    print(i)\n",
    "    \n",
    "for x in range(10,20):\n",
    "    if x == 15:\n",
    "        continue\n",
    "    print(x)"
   ]
  },
  {
   "cell_type": "markdown",
   "id": "d3e170ab",
   "metadata": {},
   "source": [
    "## Desafio 5.2 par ou impa  \n",
    "voce deve mostrar todos o numeros pares e pular os impares  \n",
    "No intervalo de 0 e 20, onde se chegar no numero 15 nós vamos parar a execução"
   ]
  },
  {
   "cell_type": "code",
   "execution_count": 26,
   "id": "733dca04",
   "metadata": {},
   "outputs": [
    {
     "data": {
      "text/plain": [
       "2"
      ]
     },
     "execution_count": 26,
     "metadata": {},
     "output_type": "execute_result"
    }
   ],
   "source": [
    "5 % 3 # Mod % = pegar o resto da divisão \n",
    "# 5 / 3 pegando o valor inteiro  = 1\n",
    "# Resto da divisão"
   ]
  },
  {
   "cell_type": "code",
   "execution_count": 33,
   "id": "8ccdc4ad",
   "metadata": {},
   "outputs": [
    {
     "name": "stdout",
     "output_type": "stream",
     "text": [
      "0\n",
      "2\n",
      "4\n",
      "6\n",
      "8\n",
      "10\n",
      "12\n",
      "14\n"
     ]
    }
   ],
   "source": [
    "for numero in range(20):\n",
    "    if(numero == 15):\n",
    "        break\n",
    "    if(numero % 2 == 1):\n",
    "        continue\n",
    "    print(numero)"
   ]
  },
  {
   "cell_type": "markdown",
   "id": "f278eacf",
   "metadata": {},
   "source": [
    "## Extra: Há o else em laço de repetição  \n",
    "Esse else ocorre depois do fim do laço"
   ]
  },
  {
   "cell_type": "code",
   "execution_count": 34,
   "id": "901b07e2",
   "metadata": {},
   "outputs": [
    {
     "name": "stdout",
     "output_type": "stream",
     "text": [
      "0\n",
      "1\n",
      "2\n",
      "3\n",
      "4\n",
      "Após o laço, apos a interação\n"
     ]
    }
   ],
   "source": [
    "for i in range(5):\n",
    "    print(i)\n",
    "else:\n",
    "    print(\"Após o laço, apos a interação\")"
   ]
  },
  {
   "cell_type": "code",
   "execution_count": 36,
   "id": "8cfa990a",
   "metadata": {},
   "outputs": [
    {
     "name": "stdout",
     "output_type": "stream",
     "text": [
      "1\n",
      "2\n",
      "3\n",
      "4\n",
      "i não é mais menor que 5\n",
      "5\n"
     ]
    }
   ],
   "source": [
    "i = 1\n",
    "\n",
    "while i < 5:\n",
    "    print(i)\n",
    "    i += 1\n",
    "else:\n",
    "    print(\"i não é mais menor que 5\")\n",
    "    print(i)"
   ]
  },
  {
   "cell_type": "markdown",
   "id": "ce7e7220",
   "metadata": {},
   "source": [
    "## Diferença de uso entre for e while  \n",
    "o laço **for** é geralmente usado quando nós sabemos o numero de repetiçoes de antemão  \n",
    "Já o **while** é para quando temos uma ideia de condição de parada, mas não sabemos exatamente quando isso ocorre (numero de iterações até isso acontecer)"
   ]
  },
  {
   "cell_type": "code",
   "execution_count": null,
   "id": "e85a4014",
   "metadata": {},
   "outputs": [],
   "source": []
  }
 ],
 "metadata": {
  "kernelspec": {
   "display_name": "Python 3 (ipykernel)",
   "language": "python",
   "name": "python3"
  },
  "language_info": {
   "codemirror_mode": {
    "name": "ipython",
    "version": 3
   },
   "file_extension": ".py",
   "mimetype": "text/x-python",
   "name": "python",
   "nbconvert_exporter": "python",
   "pygments_lexer": "ipython3",
   "version": "3.9.7"
  }
 },
 "nbformat": 4,
 "nbformat_minor": 5
}
