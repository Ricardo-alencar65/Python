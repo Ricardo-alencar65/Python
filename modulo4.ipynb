{
 "cells": [
  {
   "cell_type": "markdown",
   "id": "c28bf507",
   "metadata": {},
   "source": [
    "# Tipo booleano de dados\n",
    "\"Na computação tudo é zero ou um\"\n",
    "Tipo de dado mais simples é o booleano => Tipo logico\n",
    "booleano aceita apenas dois valores (true/false) (1/0) (sim/não)\n",
    "Em eletronica usamos lâmpada => Acesa (verdadeiro/1/Sim) Apagada (Falso/0/Não)"
   ]
  },
  {
   "cell_type": "code",
   "execution_count": 7,
   "id": "1a78123c",
   "metadata": {},
   "outputs": [
    {
     "name": "stdout",
     "output_type": "stream",
     "text": [
      "<class 'bool'>\n"
     ]
    }
   ],
   "source": [
    "boolean = True\n",
    "print(type(boolean))"
   ]
  },
  {
   "cell_type": "code",
   "execution_count": 8,
   "id": "b623a43d",
   "metadata": {},
   "outputs": [
    {
     "name": "stdout",
     "output_type": "stream",
     "text": [
      "<class 'int'>\n",
      "0\n"
     ]
    }
   ],
   "source": [
    "boolean = False\n",
    "boolean = 0 # No Python booleanos são apenas True ou False\n",
    "print(type(boolean))\n",
    "print(boolean)"
   ]
  },
  {
   "cell_type": "code",
   "execution_count": 9,
   "id": "449d99ea",
   "metadata": {},
   "outputs": [
    {
     "data": {
      "text/plain": [
       "False"
      ]
     },
     "execution_count": 9,
     "metadata": {},
     "output_type": "execute_result"
    }
   ],
   "source": [
    "bool(0)"
   ]
  },
  {
   "cell_type": "code",
   "execution_count": 10,
   "id": "cabae2e2",
   "metadata": {},
   "outputs": [
    {
     "data": {
      "text/plain": [
       "True"
      ]
     },
     "execution_count": 10,
     "metadata": {},
     "output_type": "execute_result"
    }
   ],
   "source": [
    "bool(1)"
   ]
  },
  {
   "cell_type": "code",
   "execution_count": 11,
   "id": "f8b46715",
   "metadata": {},
   "outputs": [],
   "source": [
    "# Se verdadeiro então:\n",
    "    #Execução 1\n",
    "# Se não:\n",
    "    #Execução 2"
   ]
  },
  {
   "cell_type": "code",
   "execution_count": 12,
   "id": "1e251083",
   "metadata": {},
   "outputs": [],
   "source": [
    "#Se (portugues) -> if (ingles)"
   ]
  },
  {
   "cell_type": "code",
   "execution_count": 13,
   "id": "f927cc5a",
   "metadata": {},
   "outputs": [],
   "source": [
    "#Se não (portugues) -> else (ingles)"
   ]
  },
  {
   "cell_type": "markdown",
   "id": "041f7b73",
   "metadata": {},
   "source": [
    "# if e else"
   ]
  },
  {
   "cell_type": "markdown",
   "id": "209a7ae4",
   "metadata": {},
   "source": [
    "O if é uma estrutura de condição -> avalia se uma expressão ou condição é verdadeira.   \n",
    "Ser for (verdadeiro) ele executa aquela execução propria dele.  \n",
    "Caso não for ele executa a execução do **else** (caso ele exista)"
   ]
  },
  {
   "cell_type": "markdown",
   "id": "df44b837",
   "metadata": {},
   "source": [
    "Devemos sempre colocar a condição de if sendo a variavel ou expressão que queremos a veracidade"
   ]
  },
  {
   "cell_type": "code",
   "execution_count": 19,
   "id": "df7be05d",
   "metadata": {},
   "outputs": [
    {
     "name": "stdout",
     "output_type": "stream",
     "text": [
      "a logica é verdadeira\n"
     ]
    }
   ],
   "source": [
    "logica =False\n",
    "# Sempre que tiver true executa\n",
    "# Sempre que tiver false não executa\n",
    "if True: #não estou trabalhando com a variavel\n",
    "    print(\"a logica é verdadeira\")"
   ]
  },
  {
   "cell_type": "code",
   "execution_count": 18,
   "id": "146062ed",
   "metadata": {},
   "outputs": [
    {
     "name": "stdout",
     "output_type": "stream",
     "text": [
      "a logica é verdadeira\n"
     ]
    }
   ],
   "source": [
    "logica = True\n",
    "if logica: # Agora estou trabalhando com a variavel\n",
    "    print(\"a logica é verdadeira\")"
   ]
  },
  {
   "cell_type": "markdown",
   "id": "e9707864",
   "metadata": {},
   "source": [
    "**Agora com else**"
   ]
  },
  {
   "cell_type": "code",
   "execution_count": 22,
   "id": "f4738118",
   "metadata": {},
   "outputs": [
    {
     "name": "stdout",
     "output_type": "stream",
     "text": [
      "A logica não é verdadeira\n"
     ]
    }
   ],
   "source": [
    "logic = False\n",
    "\n",
    "if logic:\n",
    "    print('A sua logica é verdadeira')\n",
    "else:\n",
    "    print('A logica não é verdadeira')"
   ]
  },
  {
   "cell_type": "markdown",
   "id": "4f454e29",
   "metadata": {},
   "source": [
    "**cuidadeo: As execuções de if/else devem estar dentro do seu escopo**"
   ]
  },
  {
   "cell_type": "code",
   "execution_count": 24,
   "id": "2efad935",
   "metadata": {},
   "outputs": [
    {
     "name": "stdout",
     "output_type": "stream",
     "text": [
      "A sua logica é verdadeira\n",
      "A logica não é verdadeira\n"
     ]
    }
   ],
   "source": [
    "logic = True\n",
    "\n",
    "if logic:\n",
    "    print('A sua logica é verdadeira')\n",
    "\n",
    "    print('A logica não é verdadeira') # Não é mais do \"interesse\" (controle) do if"
   ]
  },
  {
   "cell_type": "markdown",
   "id": "bf9473e5",
   "metadata": {},
   "source": [
    " ## if e else para diferente de True/False (Booleanos)"
   ]
  },
  {
   "cell_type": "code",
   "execution_count": 40,
   "id": "73ef0857",
   "metadata": {},
   "outputs": [
    {
     "name": "stdout",
     "output_type": "stream",
     "text": [
      "Digite a sua primeira nota 6\n",
      "Digite a sua segunda nota 6\n",
      "6.0\n",
      "Você pessou de ano\n"
     ]
    }
   ],
   "source": [
    "def main():\n",
    "    primeira_nota = int(input(\"Digite a sua primeira nota \"))\n",
    "    segunda_nota = int(input(\"Digite a sua segunda nota \"))\n",
    "    \n",
    "    # sendo a media da escola 6\n",
    "    # Para passar de ano preciso ter uma nota maior ou igual a 6\n",
    "    \n",
    "    media = (primeira_nota + segunda_nota) / 2\n",
    "    print(media)\n",
    "    \n",
    "    if media >= 6:\n",
    "        print(\"Você pessou de ano\")\n",
    "    else:\n",
    "        print(\"você não passou de ano\")\n",
    "    \n",
    "    \n",
    "    \n",
    "   \n",
    "\n",
    "main()"
   ]
  },
  {
   "cell_type": "code",
   "execution_count": 41,
   "id": "d7da5cb7",
   "metadata": {},
   "outputs": [
    {
     "ename": "KeyboardInterrupt",
     "evalue": "Interrupted by user",
     "output_type": "error",
     "traceback": [
      "\u001b[1;31m---------------------------------------------------------------------------\u001b[0m",
      "\u001b[1;31mKeyboardInterrupt\u001b[0m                         Traceback (most recent call last)",
      "\u001b[1;32m~\\AppData\\Local\\Temp/ipykernel_11152/3361508839.py\u001b[0m in \u001b[0;36m<module>\u001b[1;34m\u001b[0m\n\u001b[0;32m     17\u001b[0m \u001b[1;33m\u001b[0m\u001b[0m\n\u001b[0;32m     18\u001b[0m \u001b[1;33m\u001b[0m\u001b[0m\n\u001b[1;32m---> 19\u001b[1;33m \u001b[0mmain\u001b[0m\u001b[1;33m(\u001b[0m\u001b[1;33m)\u001b[0m\u001b[1;33m\u001b[0m\u001b[1;33m\u001b[0m\u001b[0m\n\u001b[0m",
      "\u001b[1;32m~\\AppData\\Local\\Temp/ipykernel_11152/3361508839.py\u001b[0m in \u001b[0;36mmain\u001b[1;34m()\u001b[0m\n\u001b[0;32m      1\u001b[0m \u001b[1;32mdef\u001b[0m \u001b[0mmain\u001b[0m\u001b[1;33m(\u001b[0m\u001b[1;33m)\u001b[0m\u001b[1;33m:\u001b[0m\u001b[1;33m\u001b[0m\u001b[1;33m\u001b[0m\u001b[0m\n\u001b[1;32m----> 2\u001b[1;33m     \u001b[0mprimeira_nota\u001b[0m \u001b[1;33m=\u001b[0m \u001b[0mint\u001b[0m\u001b[1;33m(\u001b[0m\u001b[0minput\u001b[0m\u001b[1;33m(\u001b[0m\u001b[1;34m\"Digite a sua primeira nota \"\u001b[0m\u001b[1;33m)\u001b[0m\u001b[1;33m)\u001b[0m\u001b[1;33m\u001b[0m\u001b[1;33m\u001b[0m\u001b[0m\n\u001b[0m\u001b[0;32m      3\u001b[0m     \u001b[0msegunda_nota\u001b[0m \u001b[1;33m=\u001b[0m \u001b[0mint\u001b[0m\u001b[1;33m(\u001b[0m\u001b[0minput\u001b[0m\u001b[1;33m(\u001b[0m\u001b[1;34m\"Digite a sua segunda nota \"\u001b[0m\u001b[1;33m)\u001b[0m\u001b[1;33m)\u001b[0m\u001b[1;33m\u001b[0m\u001b[1;33m\u001b[0m\u001b[0m\n\u001b[0;32m      4\u001b[0m \u001b[1;33m\u001b[0m\u001b[0m\n\u001b[0;32m      5\u001b[0m     \u001b[1;31m# sendo a media da escola 6\u001b[0m\u001b[1;33m\u001b[0m\u001b[1;33m\u001b[0m\u001b[0m\n",
      "\u001b[1;32m~\\anaconda3\\lib\\site-packages\\ipykernel\\kernelbase.py\u001b[0m in \u001b[0;36mraw_input\u001b[1;34m(self, prompt)\u001b[0m\n\u001b[0;32m   1004\u001b[0m                 \u001b[1;34m\"raw_input was called, but this frontend does not support input requests.\"\u001b[0m\u001b[1;33m\u001b[0m\u001b[1;33m\u001b[0m\u001b[0m\n\u001b[0;32m   1005\u001b[0m             )\n\u001b[1;32m-> 1006\u001b[1;33m         return self._input_request(\n\u001b[0m\u001b[0;32m   1007\u001b[0m             \u001b[0mstr\u001b[0m\u001b[1;33m(\u001b[0m\u001b[0mprompt\u001b[0m\u001b[1;33m)\u001b[0m\u001b[1;33m,\u001b[0m\u001b[1;33m\u001b[0m\u001b[1;33m\u001b[0m\u001b[0m\n\u001b[0;32m   1008\u001b[0m             \u001b[0mself\u001b[0m\u001b[1;33m.\u001b[0m\u001b[0m_parent_ident\u001b[0m\u001b[1;33m[\u001b[0m\u001b[1;34m\"shell\"\u001b[0m\u001b[1;33m]\u001b[0m\u001b[1;33m,\u001b[0m\u001b[1;33m\u001b[0m\u001b[1;33m\u001b[0m\u001b[0m\n",
      "\u001b[1;32m~\\anaconda3\\lib\\site-packages\\ipykernel\\kernelbase.py\u001b[0m in \u001b[0;36m_input_request\u001b[1;34m(self, prompt, ident, parent, password)\u001b[0m\n\u001b[0;32m   1049\u001b[0m             \u001b[1;32mexcept\u001b[0m \u001b[0mKeyboardInterrupt\u001b[0m\u001b[1;33m:\u001b[0m\u001b[1;33m\u001b[0m\u001b[1;33m\u001b[0m\u001b[0m\n\u001b[0;32m   1050\u001b[0m                 \u001b[1;31m# re-raise KeyboardInterrupt, to truncate traceback\u001b[0m\u001b[1;33m\u001b[0m\u001b[1;33m\u001b[0m\u001b[0m\n\u001b[1;32m-> 1051\u001b[1;33m                 \u001b[1;32mraise\u001b[0m \u001b[0mKeyboardInterrupt\u001b[0m\u001b[1;33m(\u001b[0m\u001b[1;34m\"Interrupted by user\"\u001b[0m\u001b[1;33m)\u001b[0m \u001b[1;32mfrom\u001b[0m \u001b[1;32mNone\u001b[0m\u001b[1;33m\u001b[0m\u001b[1;33m\u001b[0m\u001b[0m\n\u001b[0m\u001b[0;32m   1052\u001b[0m             \u001b[1;32mexcept\u001b[0m \u001b[0mException\u001b[0m\u001b[1;33m:\u001b[0m\u001b[1;33m\u001b[0m\u001b[1;33m\u001b[0m\u001b[0m\n\u001b[0;32m   1053\u001b[0m                 \u001b[0mself\u001b[0m\u001b[1;33m.\u001b[0m\u001b[0mlog\u001b[0m\u001b[1;33m.\u001b[0m\u001b[0mwarning\u001b[0m\u001b[1;33m(\u001b[0m\u001b[1;34m\"Invalid Message:\"\u001b[0m\u001b[1;33m,\u001b[0m \u001b[0mexc_info\u001b[0m\u001b[1;33m=\u001b[0m\u001b[1;32mTrue\u001b[0m\u001b[1;33m)\u001b[0m\u001b[1;33m\u001b[0m\u001b[1;33m\u001b[0m\u001b[0m\n",
      "\u001b[1;31mKeyboardInterrupt\u001b[0m: Interrupted by user"
     ]
    },
    {
     "name": "stdout",
     "output_type": "stream",
     "text": [
      "Digite a sua primeira nota 9\n"
     ]
    }
   ],
   "source": [
    "def main():\n",
    "    primeira_nota = int(input(\"Digite a sua primeira nota \"))\n",
    "    segunda_nota = int(input(\"Digite a sua segunda nota \"))\n",
    "    \n",
    "    # sendo a media da escola 6\n",
    "    # Para passar de ano preciso ter uma nota maior ou igual a 6\n",
    "    \n",
    "    media = (primeira_nota + segunda_nota) / 2\n",
    "    print(media)\n",
    "    \n",
    "    if media > 6:\n",
    "        print(\"Você pessou de ano\")\n",
    "    elif media ==6: # == e para Checar. = é para Atribuir\n",
    "        print(\"você passou raspando\")\n",
    "    else:\n",
    "        print(\"você não passou de ano\")\n",
    "    \n",
    "\n",
    "main()"
   ]
  },
  {
   "cell_type": "code",
   "execution_count": null,
   "id": "da74664e",
   "metadata": {},
   "outputs": [],
   "source": [
    "num = [1,2,3,4,5]\n",
    "\n",
    "input(num)"
   ]
  },
  {
   "cell_type": "code",
   "execution_count": 47,
   "id": "515a0f2f",
   "metadata": {},
   "outputs": [
    {
     "name": "stdout",
     "output_type": "stream",
     "text": [
      "Valor escolhido pelo magico 3\n",
      "você acertou\n"
     ]
    }
   ],
   "source": [
    "def main():\n",
    "    num_escolhido = 3\n",
    "    num_magico = int(input(\"Valor escolhido pelo magico \"))\n",
    "    \n",
    "    if num_magico > num_escolhido:\n",
    "        print(\"Diminua o chute\")\n",
    "    elif num_magico < num_escolhido:\n",
    "        print(\"Aumente o chute\")\n",
    "    else: \n",
    "        print(\"você acertou\")\n",
    "   \n",
    "main()"
   ]
  },
  {
   "cell_type": "markdown",
   "id": "b1a1a626",
   "metadata": {},
   "source": [
    "#  \"Checagens\"(operadores logicos)\n",
    "**>**: maior que  \n",
    "**<**: menor que  \n",
    "**>=**: maior ou igual a  \n",
    "**<=**: nemor ou igual a  \n",
    "**==**: comparação de igualdade  \n",
    "**!=**: deferente a  "
   ]
  },
  {
   "cell_type": "code",
   "execution_count": 49,
   "id": "87c98070",
   "metadata": {},
   "outputs": [
    {
     "name": "stdout",
     "output_type": "stream",
     "text": [
      "os numeros são diferentes\n"
     ]
    }
   ],
   "source": [
    "def main():\n",
    "    num1 = 1\n",
    "    num2 = 2\n",
    "    \n",
    "    if num1 != num2:\n",
    "        print(\"os numeros são diferentes\")\n",
    "    else:\n",
    "        print(\"os numeros são iguais\")\n",
    "main()"
   ]
  },
  {
   "cell_type": "markdown",
   "id": "a43d7eaf",
   "metadata": {},
   "source": [
    "Apenas **uma** execução pode ser feita por bloco de condição(apenas o primeiro if verdadeiro)"
   ]
  },
  {
   "cell_type": "code",
   "execution_count": 52,
   "id": "6f167a81",
   "metadata": {},
   "outputs": [
    {
     "name": "stdout",
     "output_type": "stream",
     "text": [
      "Felipe\n"
     ]
    }
   ],
   "source": [
    "def main():\n",
    "    char = \"f\"\n",
    "    char2 = \"b\"\n",
    "    \n",
    "    if char == \"f\":\n",
    "        print(\"Felipe\")\n",
    "    elif char2 == \"b\":\n",
    "        print(\"Bylearn\")\n",
    "    else:\n",
    "        print(\"Python\")\n",
    "        \n",
    "main()"
   ]
  },
  {
   "cell_type": "markdown",
   "id": "9b7b9f51",
   "metadata": {},
   "source": [
    "## para ter mais de uma condição usamos AND para que todas sejam verdade  \n",
    "## para ter mais de uma condição usamos OR para que pelo menos uma seja verdade"
   ]
  },
  {
   "cell_type": "code",
   "execution_count": 54,
   "id": "91e086c8",
   "metadata": {},
   "outputs": [
    {
     "name": "stdout",
     "output_type": "stream",
     "text": [
      "Felipe e Bylearn\n"
     ]
    }
   ],
   "source": [
    "def main():\n",
    "    char1 = \"f\"\n",
    "    char2 = \"b\"\n",
    "    \n",
    "    if char1 == \"f\" and char2 == \"b\":\n",
    "        print(\"Felipe e Bylearn\")\n",
    "    elif char1 == \"f\":\n",
    "        print(\"felipe\")\n",
    "    elif char2 == \"b\":\n",
    "        print(\"Bylearn\")\n",
    "    else:\n",
    "        print(\"python\")\n",
    "        \n",
    "    \n",
    "    \n",
    "    \n",
    "    \n",
    "main()"
   ]
  },
  {
   "cell_type": "code",
   "execution_count": 56,
   "id": "712c5fed",
   "metadata": {},
   "outputs": [
    {
     "name": "stdout",
     "output_type": "stream",
     "text": [
      "Voce acertou em pelo menos em um do chutes\n"
     ]
    }
   ],
   "source": [
    "def main():\n",
    "    nume1 = 2\n",
    "    nume2 = 3\n",
    "    nume3 = 5\n",
    "    \n",
    "    numero_escolhido = 3\n",
    "    \n",
    "    if(nume1 == 3) or (nume2 == 3) or (nume3 == 3):\n",
    "        print(\"Voce acertou em pelo menos em um do chutes\")\n",
    "    else:\n",
    "        print(\"voce errou os chutes\")\n",
    "    \n",
    "\n",
    "\n",
    "\n",
    "\n",
    "main()"
   ]
  },
  {
   "cell_type": "code",
   "execution_count": null,
   "id": "d3e25065",
   "metadata": {},
   "outputs": [],
   "source": []
  }
 ],
 "metadata": {
  "kernelspec": {
   "display_name": "Python 3 (ipykernel)",
   "language": "python",
   "name": "python3"
  },
  "language_info": {
   "codemirror_mode": {
    "name": "ipython",
    "version": 3
   },
   "file_extension": ".py",
   "mimetype": "text/x-python",
   "name": "python",
   "nbconvert_exporter": "python",
   "pygments_lexer": "ipython3",
   "version": "3.9.7"
  }
 },
 "nbformat": 4,
 "nbformat_minor": 5
}
