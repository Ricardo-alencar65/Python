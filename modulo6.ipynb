{
 "cells": [
  {
   "cell_type": "markdown",
   "id": "c579ec92",
   "metadata": {},
   "source": [
    "# Tuplas , Dicionarios, Conjuntos e Listas"
   ]
  },
  {
   "cell_type": "markdown",
   "id": "884b915c",
   "metadata": {},
   "source": [
    "### Listas\n",
    "* pode-se aumentar e diminuir o tamanho  \n",
    "* pode-se modificar o valor de um alemento   \n",
    "* é a mais popular dos 4\n",
    "* é inicializável com []"
   ]
  },
  {
   "cell_type": "code",
   "execution_count": 17,
   "id": "c3286855",
   "metadata": {},
   "outputs": [],
   "source": [
    "lista = []\n",
    "lista = [0,1,2,3]\n",
    "lista = [i for i in range(3)]"
   ]
  },
  {
   "cell_type": "markdown",
   "id": "c6d997c1",
   "metadata": {},
   "source": [
    "### Tuplas\n",
    "* é totalmente imutável (não permite alterações).  \n",
    "* util para dados fixos.  \n",
    "* Muito mais rapida que uma lista\n",
    "* é inicialiavel com ()"
   ]
  },
  {
   "cell_type": "code",
   "execution_count": 30,
   "id": "26ba893d",
   "metadata": {},
   "outputs": [],
   "source": [
    "tupla = ()\n",
    "tupla = (0,1,2)"
   ]
  },
  {
   "cell_type": "markdown",
   "id": "f1e7247c",
   "metadata": {},
   "source": [
    "### Conjunto\n",
    "* não é ordenado\n",
    "* não aceita valores duplicados\n",
    "* possui operações dos conjuntos matematicos\n",
    "* é inicializavel com {}"
   ]
  },
  {
   "cell_type": "code",
   "execution_count": null,
   "id": "76cd9ef8",
   "metadata": {},
   "outputs": [],
   "source": [
    "conjunto = {'item'}\n",
    "conjunto = {'a',1,2,'b'}"
   ]
  },
  {
   "cell_type": "markdown",
   "id": "a86084ba",
   "metadata": {},
   "source": [
    "### Dicionario\n",
    "* possuem chave e valor \n",
    "* são multaveis\n",
    "* não aceitam chaves duplicadas\n",
    "* é inicializavel com {}"
   ]
  },
  {
   "cell_type": "code",
   "execution_count": null,
   "id": "2a00a0bc",
   "metadata": {},
   "outputs": [],
   "source": [
    "dicionario = {'chave':'valor','chave2':'valor2'}"
   ]
  },
  {
   "cell_type": "markdown",
   "id": "f158b44c",
   "metadata": {},
   "source": [
    "## Revisão sobre lista"
   ]
  },
  {
   "cell_type": "code",
   "execution_count": 2,
   "id": "dc04a8c6",
   "metadata": {},
   "outputs": [
    {
     "name": "stdout",
     "output_type": "stream",
     "text": [
      "[]\n",
      "<class 'list'>\n",
      "<class 'list'>\n"
     ]
    }
   ],
   "source": [
    "lista = []\n",
    "print(lista)\n",
    "print(type(lista))\n",
    "print(type([]))"
   ]
  },
  {
   "cell_type": "code",
   "execution_count": 4,
   "id": "a0b4a381",
   "metadata": {},
   "outputs": [
    {
     "name": "stdout",
     "output_type": "stream",
     "text": [
      "[]\n"
     ]
    }
   ],
   "source": [
    "lista_1 = [0,1,2,3,4,5,6,7,8,9,10]\n",
    "print(lista)"
   ]
  },
  {
   "cell_type": "code",
   "execution_count": 15,
   "id": "574e4210",
   "metadata": {},
   "outputs": [
    {
     "name": "stdout",
     "output_type": "stream",
     "text": [
      "[0, 1, 2, 3, 4, 5, 6, 7, 8, 9, 10]\n"
     ]
    }
   ],
   "source": [
    "lista = []\n",
    "for i in range(11):\n",
    "    lista.append(i)\n",
    "print(lista)"
   ]
  },
  {
   "cell_type": "code",
   "execution_count": 7,
   "id": "8b108ce1",
   "metadata": {},
   "outputs": [
    {
     "name": "stdout",
     "output_type": "stream",
     "text": [
      "[0, 1, 2, 3, 4, 5, 6, 7, 8, 9, 10]\n"
     ]
    }
   ],
   "source": [
    "lista = [i for i in range(11)]\n",
    "print(lista)"
   ]
  },
  {
   "cell_type": "code",
   "execution_count": 16,
   "id": "45150647",
   "metadata": {},
   "outputs": [
    {
     "name": "stdout",
     "output_type": "stream",
     "text": [
      "[0, 1, 2, 3, 5, 6, 7, 8, 9, 10]\n"
     ]
    }
   ],
   "source": [
    "lista.remove(4)\n",
    "print(lista)"
   ]
  },
  {
   "cell_type": "markdown",
   "id": "4388fc40",
   "metadata": {},
   "source": [
    "## Aula de tuplas\n",
    "A diferença da tupla para a lista é que em vez de iniciar com um [], voce vai iniciar com um ().  "
   ]
  },
  {
   "cell_type": "code",
   "execution_count": 23,
   "id": "274337a6",
   "metadata": {},
   "outputs": [
    {
     "name": "stdout",
     "output_type": "stream",
     "text": [
      "()\n",
      "<class 'tuple'>\n",
      "<class 'tuple'>\n"
     ]
    }
   ],
   "source": [
    "tupla = ()\n",
    "print(tupla)\n",
    "print(type(tupla))\n",
    "print(type(()))"
   ]
  },
  {
   "cell_type": "code",
   "execution_count": 29,
   "id": "21189073",
   "metadata": {},
   "outputs": [
    {
     "name": "stdout",
     "output_type": "stream",
     "text": [
      "(1, 2, 3)\n"
     ]
    }
   ],
   "source": [
    "tupla = (1,2,3) # Ela é inicializada e. fica fixa dessa maneira\n",
    "print(tupla)"
   ]
  },
  {
   "cell_type": "code",
   "execution_count": 25,
   "id": "e1d76191",
   "metadata": {},
   "outputs": [
    {
     "name": "stdout",
     "output_type": "stream",
     "text": [
      "1\n",
      "3\n"
     ]
    }
   ],
   "source": [
    "print(tupla[0])\n",
    "print(tupla[2])"
   ]
  },
  {
   "cell_type": "code",
   "execution_count": 26,
   "id": "01534c72",
   "metadata": {},
   "outputs": [
    {
     "ename": "AttributeError",
     "evalue": "'tuple' object has no attribute 'append'",
     "output_type": "error",
     "traceback": [
      "\u001b[0;31m---------------------------------------------------------------------------\u001b[0m",
      "\u001b[0;31mAttributeError\u001b[0m                            Traceback (most recent call last)",
      "\u001b[0;32m/var/folders/54/4l35tb6j5112z1pvq80wh1m00000gn/T/ipykernel_1192/458146589.py\u001b[0m in \u001b[0;36m<module>\u001b[0;34m\u001b[0m\n\u001b[0;32m----> 1\u001b[0;31m \u001b[0mtupla\u001b[0m\u001b[0;34m.\u001b[0m\u001b[0mappend\u001b[0m\u001b[0;34m(\u001b[0m\u001b[0;36m4\u001b[0m\u001b[0;34m)\u001b[0m\u001b[0;34m\u001b[0m\u001b[0;34m\u001b[0m\u001b[0m\n\u001b[0m",
      "\u001b[0;31mAttributeError\u001b[0m: 'tuple' object has no attribute 'append'"
     ]
    }
   ],
   "source": [
    "tupla.append(4) # Tupla não permite adicionar novos elementos"
   ]
  },
  {
   "cell_type": "code",
   "execution_count": 27,
   "id": "df7c3391",
   "metadata": {},
   "outputs": [
    {
     "ename": "TypeError",
     "evalue": "'tuple' object does not support item assignment",
     "output_type": "error",
     "traceback": [
      "\u001b[0;31m---------------------------------------------------------------------------\u001b[0m",
      "\u001b[0;31mTypeError\u001b[0m                                 Traceback (most recent call last)",
      "\u001b[0;32m/var/folders/54/4l35tb6j5112z1pvq80wh1m00000gn/T/ipykernel_1192/1949601965.py\u001b[0m in \u001b[0;36m<module>\u001b[0;34m\u001b[0m\n\u001b[0;32m----> 1\u001b[0;31m \u001b[0mtupla\u001b[0m\u001b[0;34m[\u001b[0m\u001b[0;36m0\u001b[0m\u001b[0;34m]\u001b[0m \u001b[0;34m=\u001b[0m \u001b[0;36m4\u001b[0m\u001b[0;34m\u001b[0m\u001b[0;34m\u001b[0m\u001b[0m\n\u001b[0m\u001b[1;32m      2\u001b[0m \u001b[0mtupla\u001b[0m\u001b[0;34m[\u001b[0m\u001b[0;36m1\u001b[0m\u001b[0;34m]\u001b[0m \u001b[0;34m=\u001b[0m \u001b[0;36m5\u001b[0m\u001b[0;34m\u001b[0m\u001b[0;34m\u001b[0m\u001b[0m\n\u001b[1;32m      3\u001b[0m \u001b[0mtupla\u001b[0m\u001b[0;34m[\u001b[0m\u001b[0;36m2\u001b[0m\u001b[0;34m]\u001b[0m \u001b[0;34m=\u001b[0m \u001b[0;36m6\u001b[0m\u001b[0;34m\u001b[0m\u001b[0;34m\u001b[0m\u001b[0m\n",
      "\u001b[0;31mTypeError\u001b[0m: 'tuple' object does not support item assignment"
     ]
    }
   ],
   "source": [
    "tupla[0] = 4 # tupla não permite modificar os elementos\n",
    "tupla[1] = 5\n",
    "tupla[2] = 6"
   ]
  },
  {
   "cell_type": "code",
   "execution_count": 28,
   "id": "a6219858",
   "metadata": {},
   "outputs": [
    {
     "ename": "AttributeError",
     "evalue": "'tuple' object has no attribute 'remove'",
     "output_type": "error",
     "traceback": [
      "\u001b[0;31m---------------------------------------------------------------------------\u001b[0m",
      "\u001b[0;31mAttributeError\u001b[0m                            Traceback (most recent call last)",
      "\u001b[0;32m/var/folders/54/4l35tb6j5112z1pvq80wh1m00000gn/T/ipykernel_1192/1893817783.py\u001b[0m in \u001b[0;36m<module>\u001b[0;34m\u001b[0m\n\u001b[0;32m----> 1\u001b[0;31m \u001b[0mtupla\u001b[0m\u001b[0;34m.\u001b[0m\u001b[0mremove\u001b[0m\u001b[0;34m(\u001b[0m\u001b[0;36m1\u001b[0m\u001b[0;34m)\u001b[0m\u001b[0;34m\u001b[0m\u001b[0;34m\u001b[0m\u001b[0m\n\u001b[0m",
      "\u001b[0;31mAttributeError\u001b[0m: 'tuple' object has no attribute 'remove'"
     ]
    }
   ],
   "source": [
    "tupla.remove(1) # tupla não permite remover elementos"
   ]
  },
  {
   "cell_type": "markdown",
   "id": "8cef1651",
   "metadata": {},
   "source": [
    "**Conclusão:** Tuplas são imultaveis"
   ]
  },
  {
   "cell_type": "code",
   "execution_count": 32,
   "id": "8ff062a6",
   "metadata": {},
   "outputs": [
    {
     "name": "stdout",
     "output_type": "stream",
     "text": [
      "<class 'generator'>\n"
     ]
    }
   ],
   "source": [
    "tupla = (i for i in range(10))\n",
    "print(type(tupla))"
   ]
  },
  {
   "cell_type": "markdown",
   "id": "a466eafa",
   "metadata": {},
   "source": [
    "i for i in range(10) -> generator"
   ]
  },
  {
   "cell_type": "code",
   "execution_count": 35,
   "id": "8af1eeec",
   "metadata": {},
   "outputs": [
    {
     "name": "stdout",
     "output_type": "stream",
     "text": [
      "[0, 1, 2, 3, 4, 5, 6, 7, 8, 9]\n"
     ]
    },
    {
     "data": {
      "text/plain": [
       "list"
      ]
     },
     "execution_count": 35,
     "metadata": {},
     "output_type": "execute_result"
    }
   ],
   "source": [
    "tupla = ([i for i in range(10)])\n",
    "print(tupla)\n",
    "type(tupla)"
   ]
  },
  {
   "cell_type": "markdown",
   "id": "7ecd7943",
   "metadata": {},
   "source": [
    "Para criarmos ou convertermos um objeto para uma tupla podemos usar a função tuple()"
   ]
  },
  {
   "cell_type": "code",
   "execution_count": 37,
   "id": "69d90867",
   "metadata": {},
   "outputs": [
    {
     "name": "stdout",
     "output_type": "stream",
     "text": [
      "(0, 1, 2, 3, 4, 5, 6, 7, 8, 9)\n"
     ]
    }
   ],
   "source": [
    "tupla = tuple([i for i in range(10)])\n",
    "type(tupla)\n",
    "print(tupla)"
   ]
  },
  {
   "cell_type": "code",
   "execution_count": 41,
   "id": "5a2b9f17",
   "metadata": {},
   "outputs": [
    {
     "name": "stdout",
     "output_type": "stream",
     "text": [
      "<class 'list'>\n",
      "<class 'tuple'>\n"
     ]
    }
   ],
   "source": [
    "lista = [1,2,3]\n",
    "tupla = tuple(lista)\n",
    "print(type(lista))\n",
    "print(type(tupla))"
   ]
  },
  {
   "cell_type": "markdown",
   "id": "38da6670",
   "metadata": {},
   "source": [
    "Podemos transformar uma lista em tupla e vice-versa, dessa forma, podemos editar seus valores"
   ]
  },
  {
   "cell_type": "code",
   "execution_count": 42,
   "id": "749444a1",
   "metadata": {},
   "outputs": [
    {
     "name": "stdout",
     "output_type": "stream",
     "text": [
      "(1, 2, 'teste', 5, 6)\n"
     ]
    }
   ],
   "source": [
    "tupla = (1,2,3,4,5)\n",
    "lista = list(tupla)\n",
    "lista.append(6)\n",
    "lista[2] = \"teste\"\n",
    "lista.remove(4)\n",
    "tupla = tuple(lista)\n",
    "print(tupla)"
   ]
  },
  {
   "cell_type": "markdown",
   "id": "b1bbb437",
   "metadata": {},
   "source": [
    "**Operações gerais para estruturas de dados tupla, dicionarios, conjuntos e lista:**"
   ]
  },
  {
   "cell_type": "code",
   "execution_count": 43,
   "id": "0c278638",
   "metadata": {},
   "outputs": [
    {
     "name": "stdout",
     "output_type": "stream",
     "text": [
      "1\n",
      "(2, 3, 4)\n",
      "5\n",
      "5\n",
      "True\n",
      "False\n",
      "1\n",
      "2\n",
      "3\n",
      "4\n",
      "5\n"
     ]
    }
   ],
   "source": [
    "tupla = (1,2,3,4,5)\n",
    "print(tupla[0])\n",
    "print(tupla[1:4])\n",
    "print(tupla[-1])\n",
    "print(len(tupla))\n",
    "print(3 in tupla)\n",
    "print(4 not in tupla)\n",
    "\n",
    "for i in tupla:\n",
    "    print(i)"
   ]
  },
  {
   "cell_type": "markdown",
   "id": "b4a2b49b",
   "metadata": {},
   "source": [
    "## Aula de conjunto (sets)\n",
    "**Vem da teoria dos conjuntos matematicos, tendo todas as operações que eles possuem**"
   ]
  },
  {
   "cell_type": "code",
   "execution_count": 44,
   "id": "bed25e4c",
   "metadata": {},
   "outputs": [],
   "source": [
    "# lista = []\n",
    "# tupla = ()\n",
    "#() [] {}\n",
    "# conjunto = {}"
   ]
  },
  {
   "cell_type": "code",
   "execution_count": 46,
   "id": "16fe0086",
   "metadata": {},
   "outputs": [
    {
     "name": "stdout",
     "output_type": "stream",
     "text": [
      "{'teste'}\n",
      "<class 'set'>\n"
     ]
    }
   ],
   "source": [
    "conjunto = {\"teste\"}\n",
    "print(conjunto)\n",
    "print(type(conjunto))"
   ]
  },
  {
   "cell_type": "markdown",
   "id": "a09414a3",
   "metadata": {},
   "source": [
    "**conjuntos não aceita duplicatas**"
   ]
  },
  {
   "cell_type": "code",
   "execution_count": 47,
   "id": "e6f7d1be",
   "metadata": {},
   "outputs": [
    {
     "data": {
      "text/plain": [
       "{1, 2, 3, 4}"
      ]
     },
     "execution_count": 47,
     "metadata": {},
     "output_type": "execute_result"
    }
   ],
   "source": [
    "conjunto = {1,2,3,1,4,3}\n",
    "conjunto"
   ]
  },
  {
   "cell_type": "code",
   "execution_count": 57,
   "id": "ec027e5f",
   "metadata": {},
   "outputs": [
    {
     "name": "stdout",
     "output_type": "stream",
     "text": [
      "{'f', 'a', 'b', 'c', 'd'}\n",
      "{'j', 'n', 'c', 'm', 'g', 'd'}\n"
     ]
    }
   ],
   "source": [
    "conjunto1 = {'a','b','c','d'}\n",
    "conjunto2 = {'j','m','n','c','d'}\n",
    "conjunto1.add('f') # add => adição => operação dos conjuntos matematicos\n",
    "conjunto2.add('g')\n",
    "print(conjunto1) # não são ordenados\n",
    "print(conjunto2) # Não são ordenados"
   ]
  },
  {
   "cell_type": "markdown",
   "id": "d18e796a",
   "metadata": {},
   "source": [
    "**operações com um só conjunto por vez**   \n",
    "**ADD:** adiciona apenas um item   "
   ]
  },
  {
   "cell_type": "code",
   "execution_count": 67,
   "id": "52085e28",
   "metadata": {},
   "outputs": [
    {
     "name": "stdout",
     "output_type": "stream",
     "text": [
      "{'uva', 'maça'}\n",
      "{'maça', 'morango', 'uva', 'laranja', 'pera'}\n"
     ]
    }
   ],
   "source": [
    "frutas = {'maça','uva'}\n",
    "print(frutas)\n",
    "frutas.add('laranja')\n",
    "frutas.add('pera')\n",
    "frutas.add('morango')\n",
    "print(frutas)"
   ]
  },
  {
   "cell_type": "markdown",
   "id": "05086d35",
   "metadata": {},
   "source": [
    "**update:** Adiciona mais de um item por vez"
   ]
  },
  {
   "cell_type": "code",
   "execution_count": 63,
   "id": "9d9c47b7",
   "metadata": {},
   "outputs": [
    {
     "name": "stdout",
     "output_type": "stream",
     "text": [
      "{'maça', 'morango', 'uva', 'laranja', 'pera'}\n"
     ]
    }
   ],
   "source": [
    "frutas = {'maça','uva'}\n",
    "frutas.update(['laranja','pera','morango'])\n",
    "print(frutas)"
   ]
  },
  {
   "cell_type": "code",
   "execution_count": 66,
   "id": "0c2c0dd1",
   "metadata": {},
   "outputs": [
    {
     "name": "stdout",
     "output_type": "stream",
     "text": [
      "{'maça', 'morango', 'uva', 'laranja'}\n"
     ]
    }
   ],
   "source": [
    "frutas.remove('pera') # remove da erro se o valor já não existe\n",
    "print(frutas)"
   ]
  },
  {
   "cell_type": "code",
   "execution_count": 68,
   "id": "2d104c6b",
   "metadata": {},
   "outputs": [
    {
     "name": "stdout",
     "output_type": "stream",
     "text": [
      "{'maça', 'morango', 'uva', 'laranja', 'pera'}\n"
     ]
    }
   ],
   "source": [
    "print(frutas)"
   ]
  },
  {
   "cell_type": "markdown",
   "id": "fdf113b2",
   "metadata": {},
   "source": [
    "**remove:** Remove, mas da erro se o valor não existir.  \n",
    "**discard:** Remove e não da erro se o valor não existir.  "
   ]
  },
  {
   "cell_type": "code",
   "execution_count": 70,
   "id": "f16494a0",
   "metadata": {},
   "outputs": [
    {
     "name": "stdout",
     "output_type": "stream",
     "text": [
      "{'morango', 'uva', 'laranja', 'pera'}\n"
     ]
    }
   ],
   "source": [
    "frutas.discard('maça') # não da erro se o valor não existir\n",
    "print(frutas)"
   ]
  },
  {
   "cell_type": "markdown",
   "id": "49c49e86",
   "metadata": {},
   "source": [
    "**clear:** Remove todos os itens"
   ]
  },
  {
   "cell_type": "code",
   "execution_count": 71,
   "id": "189bc768",
   "metadata": {},
   "outputs": [
    {
     "name": "stdout",
     "output_type": "stream",
     "text": [
      "set()\n"
     ]
    }
   ],
   "source": [
    "frutas.clear()\n",
    "print(frutas)"
   ]
  },
  {
   "cell_type": "markdown",
   "id": "54308e3d",
   "metadata": {},
   "source": [
    "**operações com mais de um conjunto por vez**   \n",
    "**union:** faz a união (soma) de dois conjuntos, retorna um novo conjunto.  \n",
    "**update:** tambem une dois conjuntos, porem modifica direto no proprio conjunto que chama esse metodo  "
   ]
  },
  {
   "cell_type": "code",
   "execution_count": 72,
   "id": "e19b0f20",
   "metadata": {},
   "outputs": [
    {
     "name": "stdout",
     "output_type": "stream",
     "text": [
      "{'n', 'm', 'a', 'b', 'j', 'c', 'd'}\n"
     ]
    }
   ],
   "source": [
    "conjunto1 = {'a','b','c','d'}\n",
    "conjunto2 = {'j','m','n','c','d'}\n",
    "\n",
    "\n",
    "#    set       =>    get\n",
    "conjunto_total = conjunto1.union(conjunto2) #union me retorna um valor (conjunto)\n",
    "print(conjunto_total)"
   ]
  },
  {
   "cell_type": "code",
   "execution_count": 73,
   "id": "f5d59cd3",
   "metadata": {},
   "outputs": [
    {
     "name": "stdout",
     "output_type": "stream",
     "text": [
      "None\n"
     ]
    }
   ],
   "source": [
    "conjunto1 = {'a','b','c','d'}\n",
    "conjunto2 = {'j','m','n','c','d'}\n",
    "\n",
    "conjunto_total = conjunto1.update(conjunto2) # update modifica o meu conjunto\n",
    "print(conjunto_total)"
   ]
  },
  {
   "cell_type": "code",
   "execution_count": 76,
   "id": "0c7775c7",
   "metadata": {},
   "outputs": [
    {
     "name": "stdout",
     "output_type": "stream",
     "text": [
      "{'n', 'm', 'a', 'b', 'j', 'c', 'd'}\n"
     ]
    }
   ],
   "source": [
    "conjunto1.update(conjunto2) # jeito certo de fazer com uptade\n",
    "print(conjunto1)"
   ]
  },
  {
   "cell_type": "markdown",
   "id": "a54f440b",
   "metadata": {},
   "source": [
    "**intersection:** Me mostra a intersecção entre um e outro. \n",
    "**diffenece:** Me mostra a diferença entre o primeiro e o segundo"
   ]
  },
  {
   "cell_type": "code",
   "execution_count": 77,
   "id": "2d34bb34",
   "metadata": {},
   "outputs": [
    {
     "name": "stdout",
     "output_type": "stream",
     "text": [
      "{'d', 'c'}\n"
     ]
    }
   ],
   "source": [
    "conjunto1 = {'a','b','c','d'}\n",
    "conjunto2 = {'j','m','n','c','d'}\n",
    "\n",
    "interseccao = conjunto1.intersection(conjunto2)\n",
    "\n",
    "print(interseccao)"
   ]
  },
  {
   "cell_type": "code",
   "execution_count": 80,
   "id": "630747d4",
   "metadata": {},
   "outputs": [
    {
     "name": "stdout",
     "output_type": "stream",
     "text": [
      "{'b', 'a'}\n",
      "{'m', 'j', 'n'}\n"
     ]
    }
   ],
   "source": [
    "conjunto1 = {'a','b','c','d'}\n",
    "conjunto2 = {'j','m','n','c','d'}\n",
    "\n",
    "\n",
    "diferenca = conjunto1.difference(conjunto2)\n",
    "diferenca2 = conjunto2.difference(conjunto1)\n",
    "print(diferenca)\n",
    "print(diferenca2)"
   ]
  },
  {
   "cell_type": "markdown",
   "id": "49f0377f",
   "metadata": {},
   "source": [
    "**issubset:** se o primeiro é um subconjunto do segundo"
   ]
  },
  {
   "cell_type": "code",
   "execution_count": 81,
   "id": "693b631f",
   "metadata": {},
   "outputs": [
    {
     "name": "stdout",
     "output_type": "stream",
     "text": [
      "True\n"
     ]
    }
   ],
   "source": [
    "conjuntinho = {1,2,3}\n",
    "conjuntao = {1,2,3,4,5,6}\n",
    "\n",
    "subconjunto = conjuntinho.issubset(conjuntao)\n",
    "print(subconjunto)"
   ]
  },
  {
   "cell_type": "markdown",
   "id": "822bd78e",
   "metadata": {},
   "source": [
    "**set():** converte para conjunto   \n",
    "**metodo construtor:** é o metodo que cria uma instancia (objeto) daquela classe"
   ]
  },
  {
   "cell_type": "code",
   "execution_count": 84,
   "id": "af38b127",
   "metadata": {},
   "outputs": [
    {
     "data": {
      "text/plain": [
       "[]"
      ]
     },
     "execution_count": 84,
     "metadata": {},
     "output_type": "execute_result"
    }
   ],
   "source": [
    "set() #construtor da classe set\n",
    "tuple() # Construtor da classe tupla\n",
    "list() #construtor da classe lista"
   ]
  },
  {
   "cell_type": "code",
   "execution_count": 85,
   "id": "a9dd3f7d",
   "metadata": {},
   "outputs": [
    {
     "name": "stdout",
     "output_type": "stream",
     "text": [
      "{1, 2, 3, 4, 5}\n",
      "{'b', 'c', 'd', 'f', 'a'}\n"
     ]
    }
   ],
   "source": [
    "lista = [1,2,3,4,5]\n",
    "tupla = {'a','b','c','d','f'}\n",
    "conjunto1 = set(lista)\n",
    "conjunto2 = set(tupla)\n",
    "\n",
    "print(conjunto1)\n",
    "print(conjunto2)"
   ]
  },
  {
   "cell_type": "markdown",
   "id": "3854fbc9",
   "metadata": {},
   "source": [
    "## Aula Dicionario\n",
    "É uma estrutura de dados composta chaves e valores"
   ]
  },
  {
   "cell_type": "code",
   "execution_count": 86,
   "id": "096dbb46",
   "metadata": {},
   "outputs": [],
   "source": [
    "# lista  = [] => Multavel, adiciona e remove itens\n",
    "# tuple = () => imultavel, mais rapida...\n",
    "# conjuntos = {} => conjunto numericos, operacoes de conjuntos, não ordenado...\n",
    "\n",
    "# prucura => resposta\n",
    "# chave e valor\n",
    "# cat = gato\n",
    "# dog = cachorro\n",
    "\n",
    "# é composto por chaves e valores"
   ]
  },
  {
   "cell_type": "code",
   "execution_count": 89,
   "id": "43501065",
   "metadata": {},
   "outputs": [
    {
     "name": "stdout",
     "output_type": "stream",
     "text": [
      "{'dog': 'cachorro', 'cat': 'gato'}\n",
      "<class 'dict'>\n"
     ]
    }
   ],
   "source": [
    "dict = {'dog':'cachorro',\n",
    "        'cat':'gato',\n",
    "        'dog':'cachorro' # não aceitas repetiçoes de chaves, # caso tenha 2 valores para a mesma chave, ele sempre vai considerar o ultimo valor escrito\n",
    "       }\n",
    "print(dict)\n",
    "print(type(dict))"
   ]
  },
  {
   "cell_type": "code",
   "execution_count": 90,
   "id": "5625ee6f",
   "metadata": {},
   "outputs": [],
   "source": [
    "# dicionario suporta varios itens.  \n",
    "# as chaves não pode ser repetida\n",
    "# é multavel"
   ]
  },
  {
   "cell_type": "code",
   "execution_count": 91,
   "id": "b1fe17e2",
   "metadata": {},
   "outputs": [
    {
     "name": "stdout",
     "output_type": "stream",
     "text": [
      "{'dog': 'cachorro', 'cat': 'gato', 'bird': 'ave'}\n"
     ]
    }
   ],
   "source": [
    "dict = {'dog':'cachorro',\n",
    "        'cat':'gato',\n",
    "        'bird':'ave'\n",
    "       }\n",
    "print(dict)"
   ]
  },
  {
   "cell_type": "markdown",
   "id": "0df9be9f",
   "metadata": {},
   "source": [
    "**dicionario['chave']:** procura pela chave e retorna o valor. Dá erro se não existir a chave   \n",
    "**dicionario.get('chave'):** procura pela chave e retorna o valor. não dá erro se não existir a chave"
   ]
  },
  {
   "cell_type": "code",
   "execution_count": 93,
   "id": "ec9dba4d",
   "metadata": {},
   "outputs": [
    {
     "data": {
      "text/plain": [
       "'cachorro'"
      ]
     },
     "execution_count": 93,
     "metadata": {},
     "output_type": "execute_result"
    }
   ],
   "source": [
    "dict['dog'] # não é acessivel por indices, mas sim, por chaves"
   ]
  },
  {
   "cell_type": "code",
   "execution_count": 94,
   "id": "e1b1fec1",
   "metadata": {},
   "outputs": [
    {
     "data": {
      "text/plain": [
       "'cachorro'"
      ]
     },
     "execution_count": 94,
     "metadata": {},
     "output_type": "execute_result"
    }
   ],
   "source": [
    "dict.get('dog')"
   ]
  },
  {
   "cell_type": "code",
   "execution_count": 95,
   "id": "107de93e",
   "metadata": {},
   "outputs": [
    {
     "ename": "KeyError",
     "evalue": "'cachorro'",
     "output_type": "error",
     "traceback": [
      "\u001b[0;31m---------------------------------------------------------------------------\u001b[0m",
      "\u001b[0;31mKeyError\u001b[0m                                  Traceback (most recent call last)",
      "\u001b[0;32m/var/folders/54/4l35tb6j5112z1pvq80wh1m00000gn/T/ipykernel_1192/276889901.py\u001b[0m in \u001b[0;36m<module>\u001b[0;34m\u001b[0m\n\u001b[0;32m----> 1\u001b[0;31m \u001b[0mdict\u001b[0m\u001b[0;34m[\u001b[0m\u001b[0;34m'cachorro'\u001b[0m\u001b[0;34m]\u001b[0m\u001b[0;34m\u001b[0m\u001b[0;34m\u001b[0m\u001b[0m\n\u001b[0m",
      "\u001b[0;31mKeyError\u001b[0m: 'cachorro'"
     ]
    }
   ],
   "source": [
    "dict['cachorro'] # não procura por valor e sim por chaves, e da erro se não existir"
   ]
  },
  {
   "cell_type": "code",
   "execution_count": 97,
   "id": "f4b6d0dc",
   "metadata": {},
   "outputs": [],
   "source": [
    "dict.get('cachorro') # Não da erro se não existir"
   ]
  },
  {
   "cell_type": "markdown",
   "id": "80338c4e",
   "metadata": {},
   "source": [
    "**Dicionario são multaveis (alteraveis)"
   ]
  },
  {
   "cell_type": "code",
   "execution_count": null,
   "id": "a1ddc8a3",
   "metadata": {},
   "outputs": [],
   "source": [
    "dict = {'dog':'cachoro',\n",
    "        'cat':'gato',\n",
    "        'bird':'ave'\n",
    "        \n",
    "       }\n",
    "\n",
    "print(dict)"
   ]
  },
  {
   "cell_type": "code",
   "execution_count": 99,
   "id": "5de0fefb",
   "metadata": {},
   "outputs": [
    {
     "name": "stdout",
     "output_type": "stream",
     "text": [
      "{'dog': 'cachorro', 'cat': 'gato', 'bird': 'ave'}\n"
     ]
    }
   ],
   "source": [
    "dict['dog'] = 'cachorro'\n",
    "print(dict)"
   ]
  },
  {
   "cell_type": "markdown",
   "id": "6a3c88e0",
   "metadata": {},
   "source": [
    "**embora recomendavel, não necessariamente uma chave deve ser uma string**   "
   ]
  },
  {
   "cell_type": "code",
   "execution_count": 100,
   "id": "b3c151bf",
   "metadata": {},
   "outputs": [
    {
     "name": "stdout",
     "output_type": "stream",
     "text": [
      "{'string_chave': 1, 'string_chave2': 2.4, 'string_chave3': 'string'}\n"
     ]
    }
   ],
   "source": [
    "dict = {'string_chave':1,'string_chave2':2.4,'string_chave3':'string'}\n",
    "print(dict)"
   ]
  },
  {
   "cell_type": "code",
   "execution_count": 101,
   "id": "8eb13dbd",
   "metadata": {},
   "outputs": [
    {
     "name": "stdout",
     "output_type": "stream",
     "text": [
      "{1: 'um', 2: 'dois', 3: 'tres', 4: 'quatro', 5: 'cinco'}\n"
     ]
    }
   ],
   "source": [
    "dict_n = {1:'um',2:'dois',3:'tres',4:'quatro',5:'cinco'}\n",
    "print(dict_n)"
   ]
  },
  {
   "cell_type": "code",
   "execution_count": 102,
   "id": "878fd1f5",
   "metadata": {},
   "outputs": [
    {
     "data": {
      "text/plain": [
       "'um'"
      ]
     },
     "execution_count": 102,
     "metadata": {},
     "output_type": "execute_result"
    }
   ],
   "source": [
    "dict_n[1] #embora se pareça com um indice é uma chave"
   ]
  },
  {
   "cell_type": "code",
   "execution_count": 103,
   "id": "ed280d8f",
   "metadata": {},
   "outputs": [
    {
     "name": "stdout",
     "output_type": "stream",
     "text": [
      "um\n",
      "dois\n",
      "tres\n",
      "quatro\n",
      "cinco\n"
     ]
    }
   ],
   "source": [
    "for i in range(1,6):\n",
    "    print(dict_n[i])"
   ]
  },
  {
   "cell_type": "markdown",
   "id": "7a7675dd",
   "metadata": {},
   "source": [
    "## Realizando loop nos dicionarios"
   ]
  },
  {
   "cell_type": "code",
   "execution_count": 107,
   "id": "cff7496c",
   "metadata": {},
   "outputs": [
    {
     "name": "stdout",
     "output_type": "stream",
     "text": [
      "dog\n",
      "cat\n",
      "bird\n",
      "-------------------------\n",
      "cachoro\n",
      "gato\n",
      "ave\n"
     ]
    }
   ],
   "source": [
    "dict = {'dog':'cachoro',\n",
    "        'cat':'gato',\n",
    "        'bird':'ave'\n",
    "        \n",
    "       }\n",
    "\n",
    "for chaves in dict: # me retorna as chaves\n",
    "    print(chaves)\n",
    "    \n",
    "print('-'*25)  \n",
    "\n",
    "    \n",
    "for valores in dict:\n",
    "    print(dict[valores]) # me retorna os valores das {}"
   ]
  },
  {
   "cell_type": "code",
   "execution_count": 115,
   "id": "ee9cfed3",
   "metadata": {},
   "outputs": [
    {
     "name": "stdout",
     "output_type": "stream",
     "text": [
      "dict_keys(['dog', 'cat', 'bird'])\n",
      "dict_values(['cachoro', 'gato', 'ave'])\n",
      "dict_items([('dog', 'cachoro'), ('cat', 'gato'), ('bird', 'ave')])\n"
     ]
    }
   ],
   "source": [
    "# chaves => kays()\n",
    "# valores => values()\n",
    "#itens => items()\n",
    "\n",
    "\n",
    "print(dict.keys())\n",
    "print(dict.values())\n",
    "print(dict.items())"
   ]
  },
  {
   "cell_type": "code",
   "execution_count": 112,
   "id": "474498e5",
   "metadata": {},
   "outputs": [
    {
     "name": "stdout",
     "output_type": "stream",
     "text": [
      "cachoro\n",
      "gato\n",
      "ave\n"
     ]
    }
   ],
   "source": [
    "for valor in dict.values():\n",
    "    print(valor)"
   ]
  },
  {
   "cell_type": "code",
   "execution_count": 113,
   "id": "f53f319c",
   "metadata": {},
   "outputs": [
    {
     "name": "stdout",
     "output_type": "stream",
     "text": [
      "dog\n",
      "cat\n",
      "bird\n"
     ]
    }
   ],
   "source": [
    "for chave in dict.keys():\n",
    "    print(chave)"
   ]
  },
  {
   "cell_type": "code",
   "execution_count": 116,
   "id": "1973ffe9",
   "metadata": {},
   "outputs": [
    {
     "name": "stdout",
     "output_type": "stream",
     "text": [
      "('dog', 'cachoro')\n",
      "<class 'tuple'>\n",
      "('cat', 'gato')\n",
      "<class 'tuple'>\n",
      "('bird', 'ave')\n",
      "<class 'tuple'>\n"
     ]
    }
   ],
   "source": [
    "for item in dict.items():\n",
    "    print(item)\n",
    "    print(type(item))"
   ]
  },
  {
   "cell_type": "markdown",
   "id": "5014fe50",
   "metadata": {},
   "source": [
    "**checando existencia**"
   ]
  },
  {
   "cell_type": "code",
   "execution_count": 126,
   "id": "8d86ac78",
   "metadata": {},
   "outputs": [
    {
     "name": "stdout",
     "output_type": "stream",
     "text": [
      "o cachoro está no dicionario\n"
     ]
    }
   ],
   "source": [
    "if 'dog' in dict:\n",
    "    print(f\"o {dict['dog']} está no dicionario\")\n",
    "else:\n",
    "          print('Eu nao sei a tradução dessa palavra')"
   ]
  },
  {
   "cell_type": "markdown",
   "id": "48ac98e2",
   "metadata": {},
   "source": [
    "**adicionando itens no dicionario**"
   ]
  },
  {
   "cell_type": "code",
   "execution_count": 125,
   "id": "e9503b5b",
   "metadata": {},
   "outputs": [
    {
     "name": "stdout",
     "output_type": "stream",
     "text": [
      "o macaco está no dicionario\n"
     ]
    }
   ],
   "source": [
    "dict['monkey'] = 'macaco'\n",
    "\n",
    "if 'monkey' in dict:\n",
    "    print(f\"o {dict['monkey']} está no dicionario\")\n",
    "else:\n",
    "          print('Eu nao sei a tradução dessa palavra')"
   ]
  },
  {
   "cell_type": "code",
   "execution_count": 127,
   "id": "87dec6ad",
   "metadata": {},
   "outputs": [
    {
     "name": "stdout",
     "output_type": "stream",
     "text": [
      "{'dog': 'cachoro', 'cat': 'gato', 'bird': 'ave', 'monkey': 'macaco', 'banana': 'banana'}\n"
     ]
    }
   ],
   "source": [
    "dict['banana'] = 'banana'\n",
    "print(dict)"
   ]
  },
  {
   "cell_type": "code",
   "execution_count": 129,
   "id": "8afd679a",
   "metadata": {},
   "outputs": [
    {
     "data": {
      "text/plain": [
       "'banana'"
      ]
     },
     "execution_count": 129,
     "metadata": {},
     "output_type": "execute_result"
    }
   ],
   "source": [
    "dict.pop('banana')"
   ]
  },
  {
   "cell_type": "code",
   "execution_count": 130,
   "id": "fb3f71a9",
   "metadata": {},
   "outputs": [
    {
     "name": "stdout",
     "output_type": "stream",
     "text": [
      "{'dog': 'cachoro', 'cat': 'gato', 'bird': 'ave', 'monkey': 'macaco'}\n"
     ]
    }
   ],
   "source": [
    "print(dict)"
   ]
  },
  {
   "cell_type": "markdown",
   "id": "a93194f9",
   "metadata": {},
   "source": [
    "**Removendo intens:**\n",
    "**pop:** remove apenas um item\n",
    "**clear:** remove todos os itens"
   ]
  },
  {
   "cell_type": "code",
   "execution_count": 131,
   "id": "bde025c4",
   "metadata": {},
   "outputs": [
    {
     "name": "stdout",
     "output_type": "stream",
     "text": [
      "{'dog': 'cachoro', 'cat': 'gato', 'bird': 'ave', 'monkey': 'macaco'}\n"
     ]
    }
   ],
   "source": [
    "if 'banana' in dict:\n",
    "    dict.pop(banana)\n",
    "print(dict)"
   ]
  },
  {
   "cell_type": "code",
   "execution_count": 133,
   "id": "b94d7f62",
   "metadata": {},
   "outputs": [
    {
     "name": "stdout",
     "output_type": "stream",
     "text": [
      "{}\n"
     ]
    }
   ],
   "source": [
    "dict.clear()\n",
    "print(dict)"
   ]
  },
  {
   "cell_type": "markdown",
   "id": "eb86da11",
   "metadata": {},
   "source": [
    "## Aninhando estruturas.  \n",
    "estruturas uma dentro da outra"
   ]
  },
  {
   "cell_type": "markdown",
   "id": "c9b30450",
   "metadata": {},
   "source": [
    "### Dicionarios Aninhados"
   ]
  },
  {
   "cell_type": "code",
   "execution_count": 4,
   "id": "bf7e0adc",
   "metadata": {},
   "outputs": [],
   "source": [
    "# cada curso => nome, categoria, instrutor, alunos\n",
    "cursos = {\n",
    "         'solid':{\n",
    "            'nome': 'aprenda design patterns com solid',\n",
    "            'categoria': 'design patterns',\n",
    "            'instrutor': 'Felipe cabrera',\n",
    "            'alunos': 5000\n",
    "             },\n",
    "         'android9':{\n",
    "             'nome': 'android 9.0 avançado: APIs nativas e bancos de dados',\n",
    "             'categoria': 'android',\n",
    "             'instrutor': 'Alisson',\n",
    "             'Alunos': 5000\n",
    "         },\n",
    "         'vscode':{\n",
    "             'nome': 'VS CODE: Produtividade infinita',\n",
    "             'categoria': 'programação',\n",
    "             'instrutor': 'Felipe cabrera',\n",
    "             'alunos': 5000\n",
    "             \n",
    "             \n",
    "         }   \n",
    "         }"
   ]
  },
  {
   "cell_type": "code",
   "execution_count": 5,
   "id": "9d0b14a2",
   "metadata": {},
   "outputs": [
    {
     "name": "stdout",
     "output_type": "stream",
     "text": [
      "{'solid': {'nome': 'aprenda design patterns com solid', 'categoria': 'design patterns', 'instrutor': 'Felipe cabrera', 'alunos': 5000}, 'android9': {'nome': 'android 9.0 avançado: APIs nativas e bancos de dados', 'categoria': 'android', 'instrutor': 'Alisson', 'Alunos': 5000}, 'vscode': {'nome': 'VS CODE: Produtividade infinita', 'categoria': 'programação', 'instrutor': 'Felipe cabrera', 'alunos': 5000}}\n"
     ]
    }
   ],
   "source": [
    "print(cursos)"
   ]
  },
  {
   "cell_type": "code",
   "execution_count": 9,
   "id": "7eea75e6",
   "metadata": {},
   "outputs": [
    {
     "name": "stdout",
     "output_type": "stream",
     "text": [
      "solid\n",
      "android9\n",
      "vscode\n"
     ]
    }
   ],
   "source": [
    "for chave in cursos.keys():\n",
    "    print(chave)"
   ]
  },
  {
   "cell_type": "code",
   "execution_count": 14,
   "id": "3d6d6099",
   "metadata": {},
   "outputs": [
    {
     "name": "stdout",
     "output_type": "stream",
     "text": [
      "5000\n",
      "Felipe cabrera\n",
      "design patterns\n",
      "aprenda design patterns com solid\n"
     ]
    }
   ],
   "source": [
    "print(cursos['solid']['alunos'])\n",
    "print(cursos['solid']['instrutor'])\n",
    "print(cursos['solid']['categoria'])\n",
    "print(cursos['solid']['nome'])"
   ]
  },
  {
   "cell_type": "markdown",
   "id": "5bf62001",
   "metadata": {},
   "source": [
    "### Lista aninhadas"
   ]
  },
  {
   "cell_type": "code",
   "execution_count": 21,
   "id": "d3ffe5d9",
   "metadata": {},
   "outputs": [
    {
     "name": "stdout",
     "output_type": "stream",
     "text": [
      "<class 'list'>\n",
      "[[0, 1, 2, 3], [1.2, 3.4, 5.6], ['abc', 'def', 'ghi']]\n",
      "['abc', 'def', 'ghi']\n",
      "def\n"
     ]
    }
   ],
   "source": [
    "lista = [[0,1,2,3],[1.2,3.4,5.6],['abc','def','ghi']]\n",
    "print(type(lista))\n",
    "print(lista)\n",
    "print(lista[2])\n",
    "print(lista[2][1])"
   ]
  },
  {
   "cell_type": "markdown",
   "id": "65d9c18d",
   "metadata": {},
   "source": [
    "### Tuplas Aninhadas"
   ]
  },
  {
   "cell_type": "code",
   "execution_count": 22,
   "id": "52290733",
   "metadata": {},
   "outputs": [
    {
     "name": "stdout",
     "output_type": "stream",
     "text": [
      "<class 'tuple'>\n",
      "((0, 1, 2, 3), (1.2, 3.4, 5.6), ('abc', 'def', 'ghi'))\n",
      "(0, 1, 2, 3)\n",
      "0\n"
     ]
    }
   ],
   "source": [
    "tupla = ((0,1,2,3),(1.2,3.4,5.6),('abc','def','ghi'))\n",
    "print(type(tupla))\n",
    "print(tupla)\n",
    "print(tupla[0])\n",
    "print(tupla[0][0])"
   ]
  },
  {
   "cell_type": "markdown",
   "id": "13704ba5",
   "metadata": {},
   "source": [
    "### 'Cunjuntos aninhados'"
   ]
  },
  {
   "cell_type": "markdown",
   "id": "ba135d49",
   "metadata": {},
   "source": [
    "Conjuntos matematicos não são aninhados, não há conjuntos dentro de outros, e sim subconjuntos"
   ]
  },
  {
   "cell_type": "code",
   "execution_count": 24,
   "id": "22491e0b",
   "metadata": {},
   "outputs": [
    {
     "ename": "TypeError",
     "evalue": "unhashable type: 'set'",
     "output_type": "error",
     "traceback": [
      "\u001b[0;31m---------------------------------------------------------------------------\u001b[0m",
      "\u001b[0;31mTypeError\u001b[0m                                 Traceback (most recent call last)",
      "\u001b[0;32m/var/folders/54/4l35tb6j5112z1pvq80wh1m00000gn/T/ipykernel_739/1366659095.py\u001b[0m in \u001b[0;36m<module>\u001b[0;34m\u001b[0m\n\u001b[0;32m----> 1\u001b[0;31m \u001b[0mconjunto\u001b[0m \u001b[0;34m=\u001b[0m \u001b[0;34m{\u001b[0m\u001b[0;34m{\u001b[0m\u001b[0;36m2\u001b[0m\u001b[0;34m,\u001b[0m\u001b[0;36m3\u001b[0m\u001b[0;34m}\u001b[0m\u001b[0;34m,\u001b[0m\u001b[0;34m{\u001b[0m\u001b[0;36m4\u001b[0m\u001b[0;34m,\u001b[0m\u001b[0;36m5\u001b[0m\u001b[0;34m}\u001b[0m\u001b[0;34m,\u001b[0m\u001b[0;34m{\u001b[0m\u001b[0;36m6\u001b[0m\u001b[0;34m,\u001b[0m\u001b[0;36m7\u001b[0m\u001b[0;34m}\u001b[0m\u001b[0;34m}\u001b[0m \u001b[0;31m#\u001b[0m\u001b[0;34m\u001b[0m\u001b[0;34m\u001b[0m\u001b[0m\n\u001b[0m",
      "\u001b[0;31mTypeError\u001b[0m: unhashable type: 'set'"
     ]
    }
   ],
   "source": [
    "conjunto = {{2,3},{4,5},{6,7}} # Não da para fazer um conjunto aninhado. isso não está na teoria dos conjuntos"
   ]
  },
  {
   "cell_type": "code",
   "execution_count": 28,
   "id": "b639a4bf",
   "metadata": {},
   "outputs": [
    {
     "name": "stdout",
     "output_type": "stream",
     "text": [
      "{frozenset({3, 4}), frozenset({5, 6}), frozenset({1, 2})}\n"
     ]
    },
    {
     "ename": "TypeError",
     "evalue": "'set' object is not subscriptable",
     "output_type": "error",
     "traceback": [
      "\u001b[0;31m---------------------------------------------------------------------------\u001b[0m",
      "\u001b[0;31mTypeError\u001b[0m                                 Traceback (most recent call last)",
      "\u001b[0;32m/var/folders/54/4l35tb6j5112z1pvq80wh1m00000gn/T/ipykernel_739/3253634377.py\u001b[0m in \u001b[0;36m<module>\u001b[0;34m\u001b[0m\n\u001b[1;32m      4\u001b[0m \u001b[0mconj\u001b[0m\u001b[0;34m.\u001b[0m\u001b[0madd\u001b[0m\u001b[0;34m(\u001b[0m\u001b[0mfrozenset\u001b[0m\u001b[0;34m(\u001b[0m\u001b[0;34m(\u001b[0m\u001b[0;36m5\u001b[0m\u001b[0;34m,\u001b[0m\u001b[0;36m6\u001b[0m\u001b[0;34m)\u001b[0m\u001b[0;34m)\u001b[0m\u001b[0;34m)\u001b[0m\u001b[0;34m\u001b[0m\u001b[0;34m\u001b[0m\u001b[0m\n\u001b[1;32m      5\u001b[0m \u001b[0mprint\u001b[0m\u001b[0;34m(\u001b[0m\u001b[0mconj\u001b[0m\u001b[0;34m)\u001b[0m\u001b[0;34m\u001b[0m\u001b[0;34m\u001b[0m\u001b[0m\n\u001b[0;32m----> 6\u001b[0;31m \u001b[0mprint\u001b[0m\u001b[0;34m(\u001b[0m\u001b[0mconj\u001b[0m\u001b[0;34m[\u001b[0m\u001b[0;36m0\u001b[0m\u001b[0;34m]\u001b[0m\u001b[0;34m)\u001b[0m\u001b[0;34m\u001b[0m\u001b[0;34m\u001b[0m\u001b[0m\n\u001b[0m",
      "\u001b[0;31mTypeError\u001b[0m: 'set' object is not subscriptable"
     ]
    }
   ],
   "source": [
    "conj = set()\n",
    "conj.add(frozenset((1,2)))\n",
    "conj.add(frozenset([3,4]))\n",
    "conj.add(frozenset((5,6)))\n",
    "print(conj)\n",
    "print(conj[0])"
   ]
  },
  {
   "cell_type": "code",
   "execution_count": 29,
   "id": "4fda1894",
   "metadata": {},
   "outputs": [
    {
     "name": "stdout",
     "output_type": "stream",
     "text": [
      "frozenset({3, 4})\n",
      "<class 'frozenset'>\n",
      "frozenset({5, 6})\n",
      "<class 'frozenset'>\n",
      "frozenset({1, 2})\n",
      "<class 'frozenset'>\n"
     ]
    }
   ],
   "source": [
    "for i in conj:\n",
    "    print(i)\n",
    "    print(type(i))"
   ]
  },
  {
   "cell_type": "markdown",
   "id": "5e664b02",
   "metadata": {},
   "source": [
    "## Estrutura aninhadas entre si"
   ]
  },
  {
   "cell_type": "code",
   "execution_count": 34,
   "id": "0d89945b",
   "metadata": {},
   "outputs": [
    {
     "name": "stdout",
     "output_type": "stream",
     "text": [
      "([1, 2, 3], {'chave': 'valor'}, {3, 4, 5}, [1, (2, 3), {'chave': (2, 3)}])\n",
      "[1, 2, 3]\n",
      "3\n"
     ]
    }
   ],
   "source": [
    "super_estrutura = ([1,2,3],{'chave':'valor'},{3,4,5},[1,(2,3),{'chave':(2,3)}])\n",
    "print(super_estrutura)\n",
    "print(super_estrutura[0])\n",
    "print(super_estrutura[0][2])"
   ]
  },
  {
   "cell_type": "code",
   "execution_count": null,
   "id": "620291ca",
   "metadata": {},
   "outputs": [],
   "source": []
  }
 ],
 "metadata": {
  "kernelspec": {
   "display_name": "Python 3 (ipykernel)",
   "language": "python",
   "name": "python3"
  },
  "language_info": {
   "codemirror_mode": {
    "name": "ipython",
    "version": 3
   },
   "file_extension": ".py",
   "mimetype": "text/x-python",
   "name": "python",
   "nbconvert_exporter": "python",
   "pygments_lexer": "ipython3",
   "version": "3.9.7"
  }
 },
 "nbformat": 4,
 "nbformat_minor": 5
}
