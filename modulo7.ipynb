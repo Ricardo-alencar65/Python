{
 "cells": [
  {
   "cell_type": "markdown",
   "id": "737009c7",
   "metadata": {},
   "source": [
    "# Funções\n",
    "\n",
    "Na programação, funções são blocos de codigo que realizam determinadas tarefas que normamente precisam ser executadas diversas vezes dentro da minha aplicação."
   ]
  },
  {
   "cell_type": "code",
   "execution_count": 1,
   "id": "e7381371",
   "metadata": {},
   "outputs": [
    {
     "name": "stdout",
     "output_type": "stream",
     "text": [
      "primeira execução\n"
     ]
    }
   ],
   "source": [
    "def main():\n",
    "    # comando da função\n",
    "    pass\n",
    "    \n",
    "main()"
   ]
  },
  {
   "cell_type": "markdown",
   "id": "721ccd40",
   "metadata": {},
   "source": [
    "### Criando funções   \n",
    "A sintaxe da função é definida por três partes:   \n",
    "- nome,\n",
    "- parâmetros,\n",
    "- comportamento.\n",
    "\n",
    "no código abaixo temos um exemplo de declaração de função pytho"
   ]
  },
  {
   "cell_type": "code",
   "execution_count": 2,
   "id": "ea770164",
   "metadata": {},
   "outputs": [],
   "source": [
    "def nome(parametro):\n",
    "    comportamento = ''"
   ]
  },
  {
   "cell_type": "code",
   "execution_count": 6,
   "id": "abe1a09e",
   "metadata": {},
   "outputs": [],
   "source": [
    "def ola(meu_nome):\n",
    "    print('olá,',meu_nome)"
   ]
  },
  {
   "cell_type": "markdown",
   "id": "846fb545",
   "metadata": {},
   "source": [
    "Para chamarmos uma função basta utilizarmos seu nome com seus parametros (se for necessario)"
   ]
  },
  {
   "cell_type": "code",
   "execution_count": 7,
   "id": "91106d67",
   "metadata": {},
   "outputs": [
    {
     "name": "stdout",
     "output_type": "stream",
     "text": [
      "olá, felipe\n"
     ]
    }
   ],
   "source": [
    "ola('felipe')"
   ]
  },
  {
   "cell_type": "markdown",
   "id": "34e04cee",
   "metadata": {},
   "source": [
    "Funções com mais de um parametro"
   ]
  },
  {
   "cell_type": "code",
   "execution_count": 12,
   "id": "7147a8f8",
   "metadata": {},
   "outputs": [
    {
     "name": "stdout",
     "output_type": "stream",
     "text": [
      "Olá felipe, você tem 22 anos!\n"
     ]
    }
   ],
   "source": [
    "def ola_idade(meu_nome,minha_idade):\n",
    "    print(f\"Olá {meu_nome}, você tem {minha_idade} anos!\")\n",
    "    \n",
    "    \n",
    "ola_idade('felipe',22)"
   ]
  },
  {
   "cell_type": "code",
   "execution_count": 15,
   "id": "3a23573b",
   "metadata": {},
   "outputs": [
    {
     "name": "stdout",
     "output_type": "stream",
     "text": [
      "8.0\n"
     ]
    }
   ],
   "source": [
    "def media(nota1,nota2):\n",
    "    media = (nota1 + nota2) / 2\n",
    "    return media # usa o return para que seja usado fora da função\n",
    "\n",
    "    \n",
    "    \n",
    "minha_media = media(9,7)\n",
    "print(minha_media)"
   ]
  },
  {
   "cell_type": "markdown",
   "id": "954ac9c8",
   "metadata": {},
   "source": [
    "## Desafio 7.1 - função para media onde o usuario informa os valores das notas"
   ]
  },
  {
   "cell_type": "code",
   "execution_count": 18,
   "id": "b0918ec7",
   "metadata": {},
   "outputs": [
    {
     "name": "stdout",
     "output_type": "stream",
     "text": [
      "Digite sua primeira nota6\n",
      "Digite sua primeira nota7\n",
      "6.5\n"
     ]
    }
   ],
   "source": [
    "def media_edi():\n",
    "    nota_1 = float(input('Digite sua primeira nota'))\n",
    "    nota_2 = float(input('Digite sua segunda nota'))\n",
    "    \n",
    "    media = (nota_1 + nota_2) / 2\n",
    "    \n",
    "    print(media)\n",
    "\n",
    "media_edi()"
   ]
  },
  {
   "cell_type": "markdown",
   "id": "9f844278",
   "metadata": {},
   "source": [
    "### Desafio 7.2 - Função que chama outra função.\n",
    "a primeira delas recebe duas notas do usuario e a segunda calcula a media"
   ]
  },
  {
   "cell_type": "code",
   "execution_count": 4,
   "id": "01bc2f97",
   "metadata": {},
   "outputs": [
    {
     "name": "stdout",
     "output_type": "stream",
     "text": [
      "Digite sua primeira nota 9\n",
      "Digite sua segunda nota 8\n"
     ]
    },
    {
     "data": {
      "text/plain": [
       "8.5"
      ]
     },
     "execution_count": 4,
     "metadata": {},
     "output_type": "execute_result"
    }
   ],
   "source": [
    "def notas_edi1():\n",
    "    nota10 = float(input('Digite sua primeira nota '))\n",
    "    nota20 = float(input('Digite sua segunda nota '))\n",
    "    \n",
    "    return media_edi1(nota10,nota20)\n",
    "    \n",
    "def media_edi1(nota10,nota20):\n",
    "    \n",
    "        media = (nota10 + nota20) / 2\n",
    "        return media\n",
    "    \n",
    "\n",
    "notas_edi1()"
   ]
  },
  {
   "cell_type": "markdown",
   "id": "ac1d457c",
   "metadata": {},
   "source": [
    "### desafio 7.3 - função com funções dentro dela"
   ]
  },
  {
   "cell_type": "code",
   "execution_count": 21,
   "id": "4cff22ce",
   "metadata": {},
   "outputs": [
    {
     "name": "stdout",
     "output_type": "stream",
     "text": [
      "Digite sua primeira nota 8\n",
      "Digite sua segunda nota 9\n",
      "parabens, você foi aprovado\n"
     ]
    },
    {
     "data": {
      "text/plain": [
       "<function __main__.aprovado(media)>"
      ]
     },
     "execution_count": 21,
     "metadata": {},
     "output_type": "execute_result"
    }
   ],
   "source": [
    "def media():\n",
    "    nota10 = float(input('Digite sua primeira nota '))\n",
    "    nota20 = float(input('Digite sua segunda nota '))\n",
    "    \n",
    "    return media_edi1(nota10,nota20)\n",
    "    \n",
    "def media_edi1(nota10,nota20):\n",
    "    \n",
    "    media = (nota10 + nota20) / 2\n",
    "    return media\n",
    "    \n",
    "def aprovado(media):\n",
    "    \n",
    "    if (media >= 6):\n",
    "        print('parabens, você foi aprovado')\n",
    "    else:\n",
    "        print('você foi reprovado')\n",
    "        \n",
    "    return aprovado\n",
    "                \n",
    "aprovado(notas_edi1())          "
   ]
  },
  {
   "cell_type": "markdown",
   "id": "b6e11b44",
   "metadata": {},
   "source": [
    "**Aprendemos com os desafio:**\n",
    "- uma função pode chamar outra função dentro dela\n",
    "- podemos retornar uma função, contando que essa função de retorno também me retorne um valor\n",
    "- podemos enviar uma função por parametro, contanto que essa função enviada retorene um valor"
   ]
  },
  {
   "cell_type": "code",
   "execution_count": null,
   "id": "d9873f43",
   "metadata": {},
   "outputs": [],
   "source": []
  }
 ],
 "metadata": {
  "kernelspec": {
   "display_name": "Python 3 (ipykernel)",
   "language": "python",
   "name": "python3"
  },
  "language_info": {
   "codemirror_mode": {
    "name": "ipython",
    "version": 3
   },
   "file_extension": ".py",
   "mimetype": "text/x-python",
   "name": "python",
   "nbconvert_exporter": "python",
   "pygments_lexer": "ipython3",
   "version": "3.9.7"
  }
 },
 "nbformat": 4,
 "nbformat_minor": 5
}
