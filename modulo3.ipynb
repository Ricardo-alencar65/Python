{
 "cells": [
  {
   "cell_type": "markdown",
   "id": "a098beb2",
   "metadata": {},
   "source": [
    "# Necessidade de se trabalhar com listas\n",
    "A necessidade se da pela repetição de varios valores do mesmo tipo, onde precisamos de uma maneira mais facil de trabalhar com tais dados"
   ]
  },
  {
   "cell_type": "code",
   "execution_count": 2,
   "id": "a90e37d0",
   "metadata": {},
   "outputs": [
    {
     "name": "stdout",
     "output_type": "stream",
     "text": [
      "60\n"
     ]
    }
   ],
   "source": [
    "def main():\n",
    "    num1 = 10\n",
    "    num2 = 11\n",
    "    num3 = 12\n",
    "    num4 = 13\n",
    "    num5 = 14\n",
    "    soma = num1 + num2 + num3 + num4 + num5\n",
    "    print(soma)\n",
    "main()"
   ]
  },
  {
   "cell_type": "code",
   "execution_count": 3,
   "id": "263fb998",
   "metadata": {},
   "outputs": [
    {
     "name": "stdout",
     "output_type": "stream",
     "text": [
      "145\n"
     ]
    }
   ],
   "source": [
    "def main():\n",
    "    num1 = 10\n",
    "    num2 = 11\n",
    "    num3 = 12\n",
    "    num4 = 13\n",
    "    num5 = 14\n",
    "    num6 = 15\n",
    "    num7 = 16\n",
    "    num8 = 17\n",
    "    num9 = 18\n",
    "    num10 = 19\n",
    "    soma = num1 + num2 + num3 + num4 + num5 + num6 + num7 + num8 + num9 + num10\n",
    "    print(soma)\n",
    "main()"
   ]
  },
  {
   "cell_type": "code",
   "execution_count": 7,
   "id": "83e83f7e",
   "metadata": {},
   "outputs": [
    {
     "name": "stdout",
     "output_type": "stream",
     "text": [
      "o aluno 1 Felipe ficou com uma média de 9.0\n",
      "o aluno 2 alisson ficou com uma média de 8.5\n",
      "o aluno 3 Haynes ficou com uma média de 8.5\n"
     ]
    }
   ],
   "source": [
    "def main():\n",
    "    alu1 = \"Felipe\"\n",
    "    alu2 = \"alisson\"\n",
    "    alu3 = \"Haynes\"\n",
    "    prova1_1 = 8\n",
    "    prova2_1 = 10\n",
    "    prova1_2 = 10\n",
    "    prova2_2 = 7\n",
    "    prova1_3 = 8\n",
    "    prova2_3 =9\n",
    "    media1 = (prova1_1 + prova2_1) / 2\n",
    "    media2 = (prova1_2 + prova2_2) / 2\n",
    "    media3 = (prova1_3 + prova2_3) / 2\n",
    "    print(f\"o aluno 1 {alu1} ficou com uma média de {media1}\")\n",
    "    print(f\"o aluno 2 {alu2} ficou com uma média de {media2}\")\n",
    "    print(f\"o aluno 3 {alu3} ficou com uma média de {media3}\")\n",
    "    \n",
    "main()"
   ]
  },
  {
   "cell_type": "markdown",
   "id": "0a3fd58b",
   "metadata": {},
   "source": [
    "**Motivação das listas:**\n",
    "Trabalhar com varios valores relacionados em uma só variavel"
   ]
  },
  {
   "cell_type": "code",
   "execution_count": 8,
   "id": "74337a4c",
   "metadata": {},
   "outputs": [
    {
     "ename": "SyntaxError",
     "evalue": "invalid syntax (Temp/ipykernel_6712/4062231497.py, line 1)",
     "output_type": "error",
     "traceback": [
      "\u001b[1;36m  File \u001b[1;32m\"C:\\Users\\muril\\AppData\\Local\\Temp/ipykernel_6712/4062231497.py\"\u001b[1;36m, line \u001b[1;32m1\u001b[0m\n\u001b[1;33m    def main()\u001b[0m\n\u001b[1;37m              ^\u001b[0m\n\u001b[1;31mSyntaxError\u001b[0m\u001b[1;31m:\u001b[0m invalid syntax\n"
     ]
    }
   ],
   "source": [
    "def main()\n",
    "    # Felipe,alisson,Haynes, bylearn\n",
    "    # 8 e 10, 10 e 7, 8 e 9, 10 e 10\n",
    "    \n",
    "    # Media de [primeiro aluno]  = [notas do 1] / 2\n",
    "    # Para todos -> Media do [Atual] = [Notas do atual] / 2\n",
    "    pass\n",
    "\n",
    "main()"
   ]
  },
  {
   "cell_type": "markdown",
   "id": "e949507e",
   "metadata": {},
   "source": [
    "# Criando listas\n",
    "Listas são tipos de dados que armazenam varios valores em uma variavel só.  \n",
    "Em listas trabalhamos com listar  \n",
    "**índices começam por zero**"
   ]
  },
  {
   "cell_type": "code",
   "execution_count": 12,
   "id": "c7a20bc9",
   "metadata": {},
   "outputs": [
    {
     "name": "stdout",
     "output_type": "stream",
     "text": [
      "Felipe\n",
      "Alisson\n",
      "Haynes\n",
      "Byleran\n"
     ]
    }
   ],
   "source": [
    "primeira_lista = [\"Felipe\",\"Alisson\",\"Haynes\",\"Byleran\"]\n",
    "#----posição------- 1º ------- 2ª ------ 3ª ------- 4ª ----------\n",
    "#----indice-------- 0 -------- 1 ------- 2 -------- 3 -----------\n",
    "\n",
    "print(primeira_lista[0])\n",
    "print(primeira_lista[1])\n",
    "print(primeira_lista[2])\n",
    "print(primeira_lista[3])"
   ]
  },
  {
   "cell_type": "code",
   "execution_count": 10,
   "id": "1eee87ff",
   "metadata": {},
   "outputs": [
    {
     "ename": "IndexError",
     "evalue": "list index out of range",
     "output_type": "error",
     "traceback": [
      "\u001b[1;31m---------------------------------------------------------------------------\u001b[0m",
      "\u001b[1;31mIndexError\u001b[0m                                Traceback (most recent call last)",
      "\u001b[1;32m~\\AppData\\Local\\Temp/ipykernel_6712/1540285467.py\u001b[0m in \u001b[0;36m<module>\u001b[1;34m\u001b[0m\n\u001b[1;32m----> 1\u001b[1;33m \u001b[0mprint\u001b[0m\u001b[1;33m(\u001b[0m\u001b[0mprimeira_lista\u001b[0m\u001b[1;33m[\u001b[0m\u001b[1;36m4\u001b[0m\u001b[1;33m]\u001b[0m\u001b[1;33m)\u001b[0m \u001b[1;31m# erro devido a esssa posição não existir\u001b[0m\u001b[1;33m\u001b[0m\u001b[1;33m\u001b[0m\u001b[0m\n\u001b[0m",
      "\u001b[1;31mIndexError\u001b[0m: list index out of range"
     ]
    }
   ],
   "source": [
    "print(primeira_lista[4]) # erro devido a esssa posição não existir"
   ]
  },
  {
   "cell_type": "code",
   "execution_count": 14,
   "id": "e48ac691",
   "metadata": {},
   "outputs": [],
   "source": [
    "primeira_lista[2] = \"Guilherme\""
   ]
  },
  {
   "cell_type": "code",
   "execution_count": 15,
   "id": "0984403b",
   "metadata": {},
   "outputs": [
    {
     "name": "stdout",
     "output_type": "stream",
     "text": [
      "Felipe\n",
      "Alisson\n",
      "Guilherme\n",
      "Byleran\n"
     ]
    }
   ],
   "source": [
    "print(primeira_lista[0])\n",
    "print(primeira_lista[1])\n",
    "print(primeira_lista[2])\n",
    "print(primeira_lista[3])"
   ]
  },
  {
   "cell_type": "code",
   "execution_count": 16,
   "id": "409737e5",
   "metadata": {},
   "outputs": [
    {
     "name": "stdout",
     "output_type": "stream",
     "text": [
      "['Felipe', 'Alisson', 'Guilherme', 'Byleran']\n"
     ]
    }
   ],
   "source": [
    "print(primeira_lista)"
   ]
  },
  {
   "cell_type": "markdown",
   "id": "4db23be3",
   "metadata": {},
   "source": [
    "## Tentativa de adicionar na lista"
   ]
  },
  {
   "cell_type": "code",
   "execution_count": 17,
   "id": "f883e01a",
   "metadata": {},
   "outputs": [
    {
     "ename": "IndexError",
     "evalue": "list assignment index out of range",
     "output_type": "error",
     "traceback": [
      "\u001b[1;31m---------------------------------------------------------------------------\u001b[0m",
      "\u001b[1;31mIndexError\u001b[0m                                Traceback (most recent call last)",
      "\u001b[1;32m~\\AppData\\Local\\Temp/ipykernel_6712/1969395975.py\u001b[0m in \u001b[0;36m<module>\u001b[1;34m\u001b[0m\n\u001b[1;32m----> 1\u001b[1;33m \u001b[0mprimeira_lista\u001b[0m\u001b[1;33m[\u001b[0m\u001b[1;36m4\u001b[0m\u001b[1;33m]\u001b[0m \u001b[1;33m=\u001b[0m \u001b[1;34m\"Novo Aluo\"\u001b[0m \u001b[1;31m# não é assim que acrecentamos dados, pois a posição não existe\u001b[0m\u001b[1;33m\u001b[0m\u001b[1;33m\u001b[0m\u001b[0m\n\u001b[0m",
      "\u001b[1;31mIndexError\u001b[0m: list assignment index out of range"
     ]
    }
   ],
   "source": [
    "primeira_lista[4] = \"Novo aluo\" # não é assim que acrecentamos dados, pois a posição não existe"
   ]
  },
  {
   "cell_type": "code",
   "execution_count": 18,
   "id": "36b6ae5f",
   "metadata": {},
   "outputs": [],
   "source": [
    "primeira_lista.append(\"Novo aluno\")"
   ]
  },
  {
   "cell_type": "code",
   "execution_count": 19,
   "id": "446ddc8d",
   "metadata": {},
   "outputs": [
    {
     "name": "stdout",
     "output_type": "stream",
     "text": [
      "['Felipe', 'Alisson', 'Guilherme', 'Byleran', 'Novo aluno']\n"
     ]
    }
   ],
   "source": [
    "print(primeira_lista)"
   ]
  },
  {
   "cell_type": "markdown",
   "id": "6288f803",
   "metadata": {},
   "source": [
    "**conclusão:** Adicionamos itens na lista através do modo .append"
   ]
  },
  {
   "cell_type": "markdown",
   "id": "3572a2b7",
   "metadata": {},
   "source": [
    "## Metodods alternativos de criar lista"
   ]
  },
  {
   "cell_type": "code",
   "execution_count": 20,
   "id": "f34aa1a4",
   "metadata": {},
   "outputs": [],
   "source": [
    "lista = [1,2,3,4]\n",
    "lista2 = [\"a\",\"b\",\"c\"]\n",
    "lista3 = [\"a\",\"b\",2,3]\n",
    "lista_de_aluno = []"
   ]
  },
  {
   "cell_type": "markdown",
   "id": "53f8f5ba",
   "metadata": {},
   "source": [
    "Funções bilt in sã funçoes externas"
   ]
  },
  {
   "cell_type": "code",
   "execution_count": 21,
   "id": "ddf3b1b7",
   "metadata": {},
   "outputs": [],
   "source": [
    "lista_bilt_in = list() # equivale a lista vazia = []\n",
    "variavel_para_lista = 12\n",
    "lista_bilt_in_cheia = list([\"a\",2,variavel_para_lista])"
   ]
  },
  {
   "cell_type": "markdown",
   "id": "a9c22fbc",
   "metadata": {},
   "source": [
    "## Copiando uma lista para outra (atribuindo o valor)\n",
    "A lista B passa a Referenciar a lista A, então, uma alteração na B tambem altera a A (e vice-versa)"
   ]
  },
  {
   "cell_type": "code",
   "execution_count": 1,
   "id": "0e24be38",
   "metadata": {},
   "outputs": [
    {
     "name": "stdout",
     "output_type": "stream",
     "text": [
      "[1, 2, 3, 4]\n",
      "[1, 2, 3, 4]\n"
     ]
    }
   ],
   "source": [
    "lista_a = [1,2,3]\n",
    "lista_b = lista_a\n",
    "lista_b.append(4)\n",
    "print(lista_a)\n",
    "print(lista_b)"
   ]
  },
  {
   "cell_type": "markdown",
   "id": "9ddc144a",
   "metadata": {},
   "source": [
    "# Clonar uma lista (passar os valores) para outra\n",
    "Quando trabalhamos com colchetes [] trabalhamos com os elemenstos da lista, e não com o objeto dela"
   ]
  },
  {
   "cell_type": "code",
   "execution_count": 8,
   "id": "f6df5261",
   "metadata": {},
   "outputs": [
    {
     "name": "stdout",
     "output_type": "stream",
     "text": [
      "[1, 2, 3]\n",
      "[1, 2, 3, 4]\n"
     ]
    }
   ],
   "source": [
    "lista_a = [1,2,3]\n",
    "lista_b = lista_a [:]\n",
    "lista_b.append(4)\n",
    "print(lista_a)\n",
    "print(lista_b)"
   ]
  },
  {
   "cell_type": "markdown",
   "id": "7cf7bbe3",
   "metadata": {},
   "source": [
    "## Recuperando elemento da lista\n",
    "Para pegar o valor da lista, usamos o índice do elemento que queremos"
   ]
  },
  {
   "cell_type": "code",
   "execution_count": 9,
   "id": "17948b1c",
   "metadata": {},
   "outputs": [
    {
     "name": "stdout",
     "output_type": "stream",
     "text": [
      "1\n",
      "2\n",
      "3\n"
     ]
    }
   ],
   "source": [
    "lista_a = [1,2,3]\n",
    "elemento1 = lista_a[0]\n",
    "elemento2 = lista_a[1]\n",
    "elemento3 = lista_a[2]\n",
    "lista_b = lista_a [:]\n",
    "lista_b.append(4)\n",
    "print(elemento1)\n",
    "print(elemento2)\n",
    "print(elemento3)"
   ]
  },
  {
   "cell_type": "markdown",
   "id": "4ea6e064",
   "metadata": {},
   "source": [
    "Para recuperamos com mais de um elemento, vamos pegar uma **fatia** da lista  \n",
    "Fatia funciona da seguinte maneira:  \n",
    " - Nós queremos da posição X até a posição Y\n",
    " - Então nós queremos [X:Y]\n",
    " - Ou seja...[inicial:final]"
   ]
  },
  {
   "cell_type": "markdown",
   "id": "b5bbd571",
   "metadata": {},
   "source": [
    " - Caso não tenha um dos valores na fatia, pegaremos tudo daquele lado  \n",
    "EX:  \n",
    " - para lista [1:4] -> pegamos elementos entre 1 e 4\n",
    " - para lista [:4] -> pegamos elemento entre TUDO até\n",
    " - Para lista [2:] -> pegamos elementos a patir do 2"
   ]
  },
  {
   "cell_type": "code",
   "execution_count": 13,
   "id": "ce54ac93",
   "metadata": {},
   "outputs": [
    {
     "name": "stdout",
     "output_type": "stream",
     "text": [
      "[1, 2, 3]\n",
      "[0, 1, 2, 3]\n",
      "[2, 3, 4, 5, 6, 7, 8, 9]\n"
     ]
    }
   ],
   "source": [
    "list = [0,1,2,3,4,5,6,7,8,9]\n",
    "pri_test = list[1:4] # Entre 1 e 4\n",
    "seg_test = list[:4] # Até 4\n",
    "ter_test = list[2:] # A partir de 2\n",
    "print(pri_test)\n",
    "print(seg_test)\n",
    "print(ter_test)"
   ]
  },
  {
   "cell_type": "markdown",
   "id": "d26c9974",
   "metadata": {},
   "source": [
    "### Sempre que trabalhamos com intervalo (range) o limite é INCLUSIVO e o superior é EXCLUSIVO\n",
    "de forma simple, o primeiro valor entre, já o ultimo valor não"
   ]
  },
  {
   "cell_type": "code",
   "execution_count": 14,
   "id": "92553a2c",
   "metadata": {},
   "outputs": [],
   "source": [
    "lista_a = [1,2,3]\n",
    "lista_b = lista_a [:] # De tudo : até tudo = todos os elementos"
   ]
  },
  {
   "cell_type": "markdown",
   "id": "33a22494",
   "metadata": {},
   "source": [
    "A fatia [:] significa 'pegue tudo da lista'"
   ]
  },
  {
   "cell_type": "markdown",
   "id": "b33f6e9b",
   "metadata": {},
   "source": [
    "## Juntando listas (join)\n",
    "Serve para juntar duas ou mais listas"
   ]
  },
  {
   "cell_type": "code",
   "execution_count": 23,
   "id": "a8bf7982",
   "metadata": {},
   "outputs": [
    {
     "data": {
      "text/plain": [
       "[1, 2, 3, 10, 9]"
      ]
     },
     "execution_count": 23,
     "metadata": {},
     "output_type": "execute_result"
    }
   ],
   "source": [
    "l1 = [1,2,3]\n",
    "l2 = [10,9]\n",
    "l3 = [8,10]\n",
    "\n",
    "t = l1 + l2\n",
    "t"
   ]
  },
  {
   "cell_type": "code",
   "execution_count": 24,
   "id": "ac6af99c",
   "metadata": {},
   "outputs": [
    {
     "data": {
      "text/plain": [
       "[1, 2, 3, 10, 9, 8, 10]"
      ]
     },
     "execution_count": 24,
     "metadata": {},
     "output_type": "execute_result"
    }
   ],
   "source": [
    "t +=  l3\n",
    "t"
   ]
  },
  {
   "cell_type": "code",
   "execution_count": 26,
   "id": "4a61948d",
   "metadata": {},
   "outputs": [
    {
     "data": {
      "text/plain": [
       "[1, 2, 3, 10, 9, 8, 10]"
      ]
     },
     "execution_count": 26,
     "metadata": {},
     "output_type": "execute_result"
    }
   ],
   "source": [
    "l1 = [1,2,3]\n",
    "l2 = [10,9]\n",
    "l3 = [8,10]\n",
    "\n",
    "t = l1 + l2 + l3\n",
    "t"
   ]
  },
  {
   "cell_type": "markdown",
   "id": "ddd983c1",
   "metadata": {},
   "source": [
    " ### Importante dar um nome bom e dificil de esquecer oque é para a sua variavel/lista, diferente do que eu fiz acima"
   ]
  },
  {
   "cell_type": "markdown",
   "id": "e114d3f7",
   "metadata": {},
   "source": [
    "## Funções nativas para lista"
   ]
  },
  {
   "cell_type": "markdown",
   "id": "43b6c178",
   "metadata": {},
   "source": [
    "**primeira função** append -> insere um elemento na lista"
   ]
  },
  {
   "cell_type": "code",
   "execution_count": 2,
   "id": "68583131",
   "metadata": {},
   "outputs": [
    {
     "name": "stdout",
     "output_type": "stream",
     "text": [
      "['um', 'dois', 'tres', 'quatro']\n"
     ]
    }
   ],
   "source": [
    "# append -> insere um elemento na lista\n",
    "num = [\"um\"]\n",
    "num.append(\"dois\")\n",
    "num.append(\"tres\")\n",
    "num.append(\"quatro\")\n",
    "print(num)"
   ]
  },
  {
   "cell_type": "markdown",
   "id": "d3666d23",
   "metadata": {},
   "source": [
    "**Segunda função** index() -> retorna um determinado indece de um elemento no final da lista"
   ]
  },
  {
   "cell_type": "code",
   "execution_count": 5,
   "id": "5ebf85e9",
   "metadata": {},
   "outputs": [
    {
     "name": "stdout",
     "output_type": "stream",
     "text": [
      "2\n",
      "3\n"
     ]
    }
   ],
   "source": [
    "bylearner = [\"Felipe\",\"Alisson\",\"Haynes\",\"bylearner3\"]\n",
    "indice_haynes = bylearner.index(\"Haynes\")\n",
    "print(indice_haynes)\n",
    "print(bylearner.index(\"bylearner3\"))"
   ]
  },
  {
   "cell_type": "markdown",
   "id": "e7ccf127",
   "metadata": {},
   "source": [
    "**Extra** in -> indica se o elemento está ou não na lista\n",
    "                Checa a existencia (ou não existencia) na lista"
   ]
  },
  {
   "cell_type": "code",
   "execution_count": 9,
   "id": "6b9e06c4",
   "metadata": {},
   "outputs": [
    {
     "name": "stdout",
     "output_type": "stream",
     "text": [
      "False\n",
      "True\n"
     ]
    }
   ],
   "source": [
    "print(\"Aluno\" in bylearner)\n",
    "print(\"Felipe\" in bylearner)"
   ]
  },
  {
   "cell_type": "markdown",
   "id": "bbe7c570",
   "metadata": {},
   "source": [
    "**Terceita função** insert() -> insere um elemento na lista em uma determinada posição"
   ]
  },
  {
   "cell_type": "code",
   "execution_count": 19,
   "id": "81d7f4f3",
   "metadata": {},
   "outputs": [
    {
     "name": "stdout",
     "output_type": "stream",
     "text": [
      "['Gato', 'furão', 'Cachorro', 'Hamster']\n"
     ]
    }
   ],
   "source": [
    "animais = [\"Gato\",\"Cachorro\",\"Hamster\"]\n",
    "animais.insert(1,\"furão\")\n",
    "print(animais)"
   ]
  },
  {
   "cell_type": "markdown",
   "id": "c705f900",
   "metadata": {},
   "source": [
    "**Qaurta função** remove() -> Remove um determinado elemento"
   ]
  },
  {
   "cell_type": "code",
   "execution_count": 20,
   "id": "626e69a2",
   "metadata": {},
   "outputs": [
    {
     "name": "stdout",
     "output_type": "stream",
     "text": [
      "['Gato', 'furão', 'Hamster']\n"
     ]
    }
   ],
   "source": [
    "animais.remove(\"Cachorro\")\n",
    "print(animais)"
   ]
  },
  {
   "cell_type": "markdown",
   "id": "8c209e77",
   "metadata": {},
   "source": [
    "**Quinta função** pop -> remove um elemento em um determinado indice  \n",
    "                         pop interage com a lista, apenas removendo o elemento do indice enviado por parâmetro"
   ]
  },
  {
   "cell_type": "code",
   "execution_count": 27,
   "id": "6337497c",
   "metadata": {},
   "outputs": [
    {
     "name": "stdout",
     "output_type": "stream",
     "text": [
      "['Gato', 'Furão']\n"
     ]
    }
   ],
   "source": [
    "animais = [\"Gato\",\"Furão\",\"Cachorro\",\"Hamster\"]\n",
    "animais.pop(2)\n",
    "print(animais)"
   ]
  },
  {
   "cell_type": "code",
   "execution_count": 30,
   "id": "948f5180",
   "metadata": {},
   "outputs": [
    {
     "ename": "IndexError",
     "evalue": "pop index out of range",
     "output_type": "error",
     "traceback": [
      "\u001b[1;31m---------------------------------------------------------------------------\u001b[0m",
      "\u001b[1;31mIndexError\u001b[0m                                Traceback (most recent call last)",
      "\u001b[1;32m~\\AppData\\Local\\Temp/ipykernel_9472/2466726522.py\u001b[0m in \u001b[0;36m<module>\u001b[1;34m\u001b[0m\n\u001b[1;32m----> 1\u001b[1;33m \u001b[0manimais\u001b[0m\u001b[1;33m.\u001b[0m\u001b[0mpop\u001b[0m\u001b[1;33m(\u001b[0m\u001b[1;36m5\u001b[0m\u001b[1;33m)\u001b[0m \u001b[1;31m# Temos que tomar cuidado com o limite dos indices\u001b[0m\u001b[1;33m\u001b[0m\u001b[1;33m\u001b[0m\u001b[0m\n\u001b[0m",
      "\u001b[1;31mIndexError\u001b[0m: pop index out of range"
     ]
    }
   ],
   "source": [
    "animais.pop(5) # Temos que tomar cuidado com o limite dos indices"
   ]
  },
  {
   "cell_type": "markdown",
   "id": "a61788a5",
   "metadata": {},
   "source": [
    "**Sexta função** del() -> Remove um elemento em um determinado indice    \n",
    "                          Remove o elemento passado por parametro (envio um elemento)"
   ]
  },
  {
   "cell_type": "code",
   "execution_count": 31,
   "id": "4f67195a",
   "metadata": {},
   "outputs": [
    {
     "name": "stdout",
     "output_type": "stream",
     "text": [
      "['Gato', 'Furão', 'Hamster']\n"
     ]
    }
   ],
   "source": [
    "animais = [\"Gato\",\"Furão\",\"Cachorro\",\"Hamster\"]\n",
    "del(animais[2])\n",
    "print(animais)"
   ]
  },
  {
   "cell_type": "markdown",
   "id": "0511eccb",
   "metadata": {},
   "source": [
    "**Setima função** sort() -> Ordena os nossos numeros  \n",
    "Tambem temos a função interna sorted()"
   ]
  },
  {
   "cell_type": "code",
   "execution_count": 33,
   "id": "d1b22524",
   "metadata": {},
   "outputs": [
    {
     "name": "stdout",
     "output_type": "stream",
     "text": [
      "[2, 1, 4]\n",
      "[1, 2, 4]\n"
     ]
    }
   ],
   "source": [
    "lista = [2,1,4]\n",
    "print(lista)\n",
    "lista.sort()\n",
    "print(lista)"
   ]
  },
  {
   "cell_type": "code",
   "execution_count": 36,
   "id": "55539f1e",
   "metadata": {},
   "outputs": [
    {
     "name": "stdout",
     "output_type": "stream",
     "text": [
      "[1, 2, 4]\n"
     ]
    }
   ],
   "source": [
    "lista = [2,1,4]\n",
    "print(sorted(lista))"
   ]
  },
  {
   "cell_type": "code",
   "execution_count": 38,
   "id": "2045f0b6",
   "metadata": {},
   "outputs": [
    {
     "name": "stdout",
     "output_type": "stream",
     "text": [
      "None\n",
      "None\n"
     ]
    }
   ],
   "source": [
    "lista = [2,1,4]\n",
    "print(lista.sort()) # interage diretamenta na lista... Não retorna nada\n",
    "lista2 =lista.sort() # não da para atibuir\n",
    "print(lista2)"
   ]
  },
  {
   "cell_type": "code",
   "execution_count": 40,
   "id": "aa6efed0",
   "metadata": {},
   "outputs": [
    {
     "name": "stdout",
     "output_type": "stream",
     "text": [
      "['a', 'b', 'c']\n"
     ]
    }
   ],
   "source": [
    "lista = [\"c\",\"b\",\"a\"]\n",
    "print(sorted(lista)) # sorted me retorna uma lista já ordenada\n",
    "lista2 =sorted(lista) # consigo atribuir a lista"
   ]
  },
  {
   "cell_type": "markdown",
   "id": "dd88d69e",
   "metadata": {},
   "source": [
    "**Oitava função:** Len -> Retorna o tamanho da lista"
   ]
  },
  {
   "cell_type": "code",
   "execution_count": 23,
   "id": "90ad07bd",
   "metadata": {},
   "outputs": [
    {
     "name": "stdout",
     "output_type": "stream",
     "text": [
      "5\n"
     ]
    }
   ],
   "source": [
    "ls = [\"t\",\"e\",\"s\",\"t\",\"e\"] # Também funciona para lista\n",
    "print(len(ls))"
   ]
  },
  {
   "cell_type": "code",
   "execution_count": 1,
   "id": "d4774247",
   "metadata": {},
   "outputs": [],
   "source": [
    "# caractere é uma letra só\n",
    "char = \"c\"\n",
    "# string é \"um conjunto\" de caracteres\n",
    "string_palavra = \"felipe\"\n",
    "string_frase = \"Seja um Bylearner\"\n",
    "\n",
    "# vetor (Array) -> sequencia de elementos do mesmo tipo\n",
    "# string é um vetor (array) de caracteres "
   ]
  },
  {
   "cell_type": "code",
   "execution_count": 3,
   "id": "7b2ba669",
   "metadata": {},
   "outputs": [
    {
     "name": "stdout",
     "output_type": "stream",
     "text": [
      "b\n",
      "y\n",
      "l\n",
      "e\n",
      "a\n",
      "r\n",
      "n\n"
     ]
    }
   ],
   "source": [
    "string = \"bylearn\"\n",
    "print(string[0])\n",
    "print(string[1])\n",
    "print(string[2])\n",
    "print(string[3])\n",
    "print(string[4])\n",
    "print(string[5])\n",
    "print(string[6])"
   ]
  },
  {
   "cell_type": "markdown",
   "id": "889a3c2a",
   "metadata": {},
   "source": [
    "**String são imutaveis**"
   ]
  },
  {
   "cell_type": "code",
   "execution_count": 4,
   "id": "d46b1795",
   "metadata": {},
   "outputs": [
    {
     "ename": "TypeError",
     "evalue": "'str' object does not support item assignment",
     "output_type": "error",
     "traceback": [
      "\u001b[1;31m---------------------------------------------------------------------------\u001b[0m",
      "\u001b[1;31mTypeError\u001b[0m                                 Traceback (most recent call last)",
      "\u001b[1;32m~\\AppData\\Local\\Temp/ipykernel_2368/2177295002.py\u001b[0m in \u001b[0;36m<module>\u001b[1;34m\u001b[0m\n\u001b[0;32m      1\u001b[0m \u001b[0mpalavra\u001b[0m \u001b[1;33m=\u001b[0m \u001b[1;34m\"teste\"\u001b[0m\u001b[1;33m\u001b[0m\u001b[1;33m\u001b[0m\u001b[0m\n\u001b[1;32m----> 2\u001b[1;33m \u001b[0mpalavra\u001b[0m\u001b[1;33m[\u001b[0m\u001b[1;36m2\u001b[0m\u001b[1;33m]\u001b[0m \u001b[1;33m=\u001b[0m \u001b[1;34m\"z\"\u001b[0m\u001b[1;33m\u001b[0m\u001b[1;33m\u001b[0m\u001b[0m\n\u001b[0m",
      "\u001b[1;31mTypeError\u001b[0m: 'str' object does not support item assignment"
     ]
    }
   ],
   "source": [
    "palavra = \"teste\"\n",
    "palavra[2] = \"z\""
   ]
  },
  {
   "cell_type": "markdown",
   "id": "1a3e9024",
   "metadata": {},
   "source": [
    "String **podem** ser fatiadas, como por exemplo, para mudar o valor de algum idice"
   ]
  },
  {
   "cell_type": "code",
   "execution_count": 6,
   "id": "1aaca3d1",
   "metadata": {},
   "outputs": [
    {
     "name": "stdout",
     "output_type": "stream",
     "text": [
      "tezte\n"
     ]
    }
   ],
   "source": [
    "nova_palavra = palavra[:2] + \"z\" + palavra[3:]\n",
    "print(nova_palavra)"
   ]
  },
  {
   "cell_type": "code",
   "execution_count": 10,
   "id": "992705eb",
   "metadata": {},
   "outputs": [
    {
     "name": "stdout",
     "output_type": "stream",
     "text": [
      "f\n",
      "e\n",
      "abcdef\n"
     ]
    }
   ],
   "source": [
    "palavra = \"abcdef\"\n",
    "print(palavra[-1])\n",
    "print(palavra[-2])\n",
    "print(palavra[:]) #print(palavra)"
   ]
  },
  {
   "cell_type": "markdown",
   "id": "9ed70430",
   "metadata": {},
   "source": [
    "**Pesquisar em string**"
   ]
  },
  {
   "cell_type": "code",
   "execution_count": 11,
   "id": "f2c45e66",
   "metadata": {},
   "outputs": [
    {
     "data": {
      "text/plain": [
       "True"
      ]
     },
     "execution_count": 11,
     "metadata": {},
     "output_type": "execute_result"
    }
   ],
   "source": [
    "\"b\" in \"abc\""
   ]
  },
  {
   "cell_type": "code",
   "execution_count": 12,
   "id": "5602654f",
   "metadata": {},
   "outputs": [
    {
     "data": {
      "text/plain": [
       "False"
      ]
     },
     "execution_count": 12,
     "metadata": {},
     "output_type": "execute_result"
    }
   ],
   "source": [
    "\"b\" not in \"abc\""
   ]
  },
  {
   "cell_type": "code",
   "execution_count": 13,
   "id": "12d26d4f",
   "metadata": {},
   "outputs": [
    {
     "data": {
      "text/plain": [
       "True"
      ]
     },
     "execution_count": 13,
     "metadata": {},
     "output_type": "execute_result"
    }
   ],
   "source": [
    "\"d\" not in \"abc\""
   ]
  },
  {
   "cell_type": "markdown",
   "id": "81470a45",
   "metadata": {},
   "source": [
    "**concatenar strings** (somar)"
   ]
  },
  {
   "cell_type": "code",
   "execution_count": 16,
   "id": "c6228135",
   "metadata": {},
   "outputs": [
    {
     "name": "stdout",
     "output_type": "stream",
     "text": [
      "FeLiPe\n"
     ]
    }
   ],
   "source": [
    "string_1 = \"Fe\" + \"Li\" + \"Pe\"\n",
    "print(string_1)"
   ]
  },
  {
   "cell_type": "code",
   "execution_count": 17,
   "id": "08590184",
   "metadata": {},
   "outputs": [
    {
     "name": "stdout",
     "output_type": "stream",
     "text": [
      "FeLiPe\n"
     ]
    }
   ],
   "source": [
    "print(\"Fe\"+\"Li\"+\"Pe\")"
   ]
  },
  {
   "cell_type": "markdown",
   "id": "0cb66a7b",
   "metadata": {},
   "source": [
    "**Alterar entre minisculo e maisculo**"
   ]
  },
  {
   "cell_type": "code",
   "execution_count": 18,
   "id": "ffe452f7",
   "metadata": {},
   "outputs": [
    {
     "data": {
      "text/plain": [
       "'Felipe'"
      ]
     },
     "execution_count": 18,
     "metadata": {},
     "output_type": "execute_result"
    }
   ],
   "source": [
    "string_1 = \"Fe\" + \"Li\".lower() + \"Pe\".lower()\n",
    "string_1"
   ]
  },
  {
   "cell_type": "code",
   "execution_count": 20,
   "id": "277d283c",
   "metadata": {},
   "outputs": [
    {
     "data": {
      "text/plain": [
       "'FELIPE'"
      ]
     },
     "execution_count": 20,
     "metadata": {},
     "output_type": "execute_result"
    }
   ],
   "source": [
    "string_1.upper()"
   ]
  },
  {
   "cell_type": "markdown",
   "id": "fd04316a",
   "metadata": {},
   "source": [
    "**Tamanho da string**"
   ]
  },
  {
   "cell_type": "code",
   "execution_count": 21,
   "id": "6494965d",
   "metadata": {},
   "outputs": [
    {
     "name": "stdout",
     "output_type": "stream",
     "text": [
      "5\n"
     ]
    }
   ],
   "source": [
    "s = \"teste\"\n",
    "print(len(s))"
   ]
  },
  {
   "cell_type": "code",
   "execution_count": 24,
   "id": "37ca9bc8",
   "metadata": {},
   "outputs": [
    {
     "name": "stdout",
     "output_type": "stream",
     "text": [
      "<class 'int'>\n",
      "<class 'str'>\n"
     ]
    }
   ],
   "source": [
    "num = 123\n",
    "print(type(num))\n",
    "print(type(str(num)))"
   ]
  },
  {
   "cell_type": "markdown",
   "id": "c2926c02",
   "metadata": {},
   "source": [
    "**Checar se todos os craracteres são letras**"
   ]
  },
  {
   "cell_type": "code",
   "execution_count": 25,
   "id": "e13c87b9",
   "metadata": {},
   "outputs": [
    {
     "name": "stdout",
     "output_type": "stream",
     "text": [
      "True\n",
      "False\n",
      "False\n",
      "False\n"
     ]
    }
   ],
   "source": [
    "print(\"abc\".isalpha())\n",
    "print(\"1fg\".isalpha())\n",
    "print(\"123\".isalpha())\n",
    "print(\"=+-/\".isalpha())"
   ]
  },
  {
   "cell_type": "markdown",
   "id": "d4ccd645",
   "metadata": {},
   "source": [
    "**Remover espaços em branco tanto no inicio quanto no fim**"
   ]
  },
  {
   "cell_type": "code",
   "execution_count": 27,
   "id": "7922fa31",
   "metadata": {},
   "outputs": [
    {
     "data": {
      "text/plain": [
       "'sobrando espaços'"
      ]
     },
     "execution_count": 27,
     "metadata": {},
     "output_type": "execute_result"
    }
   ],
   "source": [
    "\"       sobrando espaços      \".strip()"
   ]
  },
  {
   "cell_type": "markdown",
   "id": "9c16fea9",
   "metadata": {},
   "source": [
    "**juntar os itens das strings através de um delimitador**"
   ]
  },
  {
   "cell_type": "code",
   "execution_count": 28,
   "id": "2d2bef15",
   "metadata": {},
   "outputs": [
    {
     "data": {
      "text/plain": [
       "'a,b,c'"
      ]
     },
     "execution_count": 28,
     "metadata": {},
     "output_type": "execute_result"
    }
   ],
   "source": [
    "\",\".join(\"abc\") # aqui faz sentido"
   ]
  },
  {
   "cell_type": "code",
   "execution_count": 29,
   "id": "69d94a24",
   "metadata": {},
   "outputs": [
    {
     "data": {
      "text/plain": [
       "'a , b , c'"
      ]
     },
     "execution_count": 29,
     "metadata": {},
     "output_type": "execute_result"
    }
   ],
   "source": [
    "\" , \".join(\"abc\") # aqui faz sentido"
   ]
  },
  {
   "cell_type": "code",
   "execution_count": 30,
   "id": "3781465d",
   "metadata": {},
   "outputs": [
    {
     "data": {
      "text/plain": [
       "'a|letra: b|letra: c'"
      ]
     },
     "execution_count": 30,
     "metadata": {},
     "output_type": "execute_result"
    }
   ],
   "source": [
    "\"|letra: \".join(\"abc\") # aqui não faz sentido"
   ]
  },
  {
   "cell_type": "markdown",
   "id": "196aab00",
   "metadata": {},
   "source": [
    "**separar uma string através de um delimitador**"
   ]
  },
  {
   "cell_type": "code",
   "execution_count": 31,
   "id": "408be1ed",
   "metadata": {},
   "outputs": [],
   "source": [
    "s = \"n o m e\""
   ]
  },
  {
   "cell_type": "code",
   "execution_count": 32,
   "id": "a0ba9ae4",
   "metadata": {},
   "outputs": [
    {
     "data": {
      "text/plain": [
       "['n', 'o', 'm', 'e']"
      ]
     },
     "execution_count": 32,
     "metadata": {},
     "output_type": "execute_result"
    }
   ],
   "source": [
    "s.split()"
   ]
  },
  {
   "cell_type": "code",
   "execution_count": 33,
   "id": "3bdcacff",
   "metadata": {},
   "outputs": [
    {
     "data": {
      "text/plain": [
       "['n', 'o', 'm', 'e']"
      ]
     },
     "execution_count": 33,
     "metadata": {},
     "output_type": "execute_result"
    }
   ],
   "source": [
    "s = \"n,o,m,e\"\n",
    "s.split(\",\")"
   ]
  },
  {
   "cell_type": "code",
   "execution_count": 34,
   "id": "0390973e",
   "metadata": {},
   "outputs": [
    {
     "data": {
      "text/plain": [
       "['nome']"
      ]
     },
     "execution_count": 34,
     "metadata": {},
     "output_type": "execute_result"
    }
   ],
   "source": [
    "s = \"nome\"\n",
    "s.split()"
   ]
  },
  {
   "cell_type": "markdown",
   "id": "1675d778",
   "metadata": {},
   "source": [
    "## Lista dentro de listas\n",
    "Podemos criar quanta listas quisermos dentro de outras listas, bastando o elemento ser também uma lista (Utilizando as barras[])"
   ]
  },
  {
   "cell_type": "code",
   "execution_count": 3,
   "id": "21f67612",
   "metadata": {},
   "outputs": [
    {
     "data": {
      "text/plain": [
       "1"
      ]
     },
     "execution_count": 3,
     "metadata": {},
     "output_type": "execute_result"
    }
   ],
   "source": [
    "# Ex:\n",
    "lista_dentro_de_lista = [[1,2],[3,4]]\n",
    "lista_dentro_de_lista[0][0]"
   ]
  },
  {
   "cell_type": "code",
   "execution_count": 4,
   "id": "c7156d0f",
   "metadata": {},
   "outputs": [
    {
     "data": {
      "text/plain": [
       "3"
      ]
     },
     "execution_count": 4,
     "metadata": {},
     "output_type": "execute_result"
    }
   ],
   "source": [
    "lista_dentro_de_lista[1][0]"
   ]
  },
  {
   "cell_type": "code",
   "execution_count": null,
   "id": "f1241b1e",
   "metadata": {},
   "outputs": [],
   "source": []
  }
 ],
 "metadata": {
  "kernelspec": {
   "display_name": "Python 3 (ipykernel)",
   "language": "python",
   "name": "python3"
  },
  "language_info": {
   "codemirror_mode": {
    "name": "ipython",
    "version": 3
   },
   "file_extension": ".py",
   "mimetype": "text/x-python",
   "name": "python",
   "nbconvert_exporter": "python",
   "pygments_lexer": "ipython3",
   "version": "3.9.7"
  }
 },
 "nbformat": 4,
 "nbformat_minor": 5
}
